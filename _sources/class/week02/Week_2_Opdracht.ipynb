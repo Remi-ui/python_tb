{
  "nbformat": 4,
  "nbformat_minor": 0,
  "metadata": {
    "colab": {
      "provenance": []
    },
    "kernelspec": {
      "name": "python3",
      "display_name": "Python 3"
    },
    "language_info": {
      "name": "python"
    }
  },
  "cells": [
    {
      "cell_type": "markdown",
      "source": [
        "# Opdracht Week 2"
      ],
      "metadata": {
        "id": "MEaIEh4w4jF3"
      }
    },
    {
      "cell_type": "markdown",
      "source": [
        "Doorloop de volgende opdrachten voor deze week. Je kunt dit bestand hier openen:\n",
        "\n",
        "[![Open In Colab](https://colab.research.google.com/assets/colab-badge.svg)](https://colab.research.google.com/drive/1gi1zc6FYdcR0g1gM1mYBlED56nBNBrgw?usp=sharing)\n",
        "\n",
        "Lever het resultaat in als *.ipynb* bestand op blackboard. Dit doe je door de volgende stappen te volgen:\n",
        "\n",
        "File > Download > Download .ipynb"
      ],
      "metadata": {
        "id": "K2ju0ws7-lpp"
      }
    },
    {
      "cell_type": "markdown",
      "source": [
        "### 1. Hoe lang?"
      ],
      "metadata": {
        "id": "6eUT364O5e9B"
      }
    },
    {
      "cell_type": "markdown",
      "source": [
        "Een zachtgekookt ei moet ongeveer 8 minuten koken. Creëer een functie waarbij je een aantal minuten kan invoeren en de uitkomst je verteld of het ei nog langer moet koken of dat het ei gereed is. Zorg hierbij ook dat de functie je iets verteld als het ei te lang heeft gekookt"
      ],
      "metadata": {
        "id": "g33BLnsw59RI"
      }
    },
    {
      "cell_type": "code",
      "source": [
        "def gekookt_ei(getal):\n",
        "  if getal < 8:\n",
        "    print(\"uw ei is nog niet klaar\")\n",
        "  elif getal == 8:\n",
        "    # Jouw code!\n",
        "  else:\n",
        "    # Jouw code!\n",
        "\n",
        "gekookt_ei(1)"
      ],
      "metadata": {
        "id": "ssueYkn97MeL"
      },
      "execution_count": null,
      "outputs": []
    },
    {
      "cell_type": "markdown",
      "source": [
        "## 2. Hoeveel P's?"
      ],
      "metadata": {
        "id": "dU7tiXNj5tob"
      }
    },
    {
      "cell_type": "markdown",
      "source": [
        "Maak een functie waarmee je alle *p*'s in een zin kunt tellen."
      ],
      "metadata": {
        "id": "CG-wHZjq8Kcp"
      }
    },
    {
      "cell_type": "code",
      "source": [
        "def p_teller():\n",
        "  # Jouw code!\n",
        "\n",
        "p_teller()"
      ],
      "metadata": {
        "id": "SgvxVvOp8Xqc"
      },
      "execution_count": null,
      "outputs": []
    },
    {
      "cell_type": "markdown",
      "source": [
        "## 3. Korting"
      ],
      "metadata": {
        "id": "gZPUhVjH5Haz"
      }
    },
    {
      "cell_type": "markdown",
      "source": [
        "Maak een functie waaraan je de prijs en het percentage korting kunt meegeven en je deze je de nieuwe prijs terug geeft."
      ],
      "metadata": {
        "id": "KanqDkpP8WWd"
      }
    },
    {
      "cell_type": "code",
      "execution_count": null,
      "metadata": {
        "id": "9dtaxc2C4e1u"
      },
      "outputs": [],
      "source": [
        "def bereken_korting(prijs, korting):\n",
        "  # Jouw code!\n",
        "\n",
        "bereken_korting(100, 30) # Test je code ook met andere getallen."
      ]
    },
    {
      "cell_type": "markdown",
      "source": [
        "## Uidaging"
      ],
      "metadata": {
        "id": "af65ABP797d0"
      }
    },
    {
      "cell_type": "markdown",
      "source": [
        "Maak een functie die van elke letter aangeeft hoe vaak de letter voorkomt in de zin die je mee geeft."
      ],
      "metadata": {
        "id": "Jd8r9iT9-AJC"
      }
    },
    {
      "cell_type": "code",
      "source": [
        "# Jouw code"
      ],
      "metadata": {
        "id": "glBlL9s_9_fC"
      },
      "execution_count": null,
      "outputs": []
    }
  ]
}
