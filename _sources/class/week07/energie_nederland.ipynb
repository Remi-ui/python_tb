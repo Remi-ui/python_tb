{
  "cells": [
    {
      "cell_type": "markdown",
      "metadata": {
        "id": "EbKwZwXfEdRL"
      },
      "source": [
        "# Energie in Nederland"
      ]
    },
    {
      "cell_type": "markdown",
      "source": [
        "Het voorbeeld voor de eindopdracht kun je hier openen:\n",
        "\n",
        "[![Open In Colab](https://colab.research.google.com/assets/colab-badge.svg)](https://colab.research.google.com/drive/1GeTnXnZ__4cE5fPF_I3Gczj6cM2AC-2L?usp=sharing)\n",
        "\n",
        "Lever het resultaat als *.ipynb* bestand in via eJournal. Dit doe je door de volgende stappen te volgen nadat je klaar bent:\n",
        "\n",
        "File > Download > Download .ipynb"
      ],
      "metadata": {
        "id": "uxA1Yctwb2Uz"
      }
    },
    {
      "cell_type": "markdown",
      "metadata": {
        "id": "pg5Z3HqC1Y_n"
      },
      "source": [
        "## Zorgen dat je Google Drive te vinden is door Google Colab"
      ]
    },
    {
      "cell_type": "code",
      "execution_count": null,
      "metadata": {
        "id": "7liesKmEHuxu"
      },
      "outputs": [],
      "source": [
        "from google.colab import drive\n",
        "drive.mount('/content/drive')"
      ]
    },
    {
      "cell_type": "code",
      "execution_count": null,
      "metadata": {
        "id": "kys2xthKKFsD"
      },
      "outputs": [],
      "source": [
        "%cd drive/MyDrive/electricity_dataset/Electricity"
      ]
    },
    {
      "cell_type": "markdown",
      "metadata": {
        "id": "IQkhA6gV1oM_"
      },
      "source": [
        "## Installeren en importeren van de nodige libraries"
      ]
    },
    {
      "cell_type": "code",
      "execution_count": null,
      "metadata": {
        "id": "NxWmlt_QFYb3"
      },
      "outputs": [],
      "source": [
        "!pip install geopandas\n",
        "!pip3 install basemap"
      ]
    },
    {
      "cell_type": "code",
      "execution_count": null,
      "metadata": {
        "id": "j95F_Ex3Kqtz"
      },
      "outputs": [],
      "source": [
        "# Importeer de nodige libraries.\n",
        "import pandas as pd\n",
        "import os\n",
        "\n",
        "from matplotlib.patches import Polygon as polg\n",
        "from matplotlib.collections import PatchCollection\n",
        "from matplotlib.colors import Normalize\n",
        "import geopandas as gpd\n",
        "from matplotlib.patches import Patch\n",
        "from shapely.geometry import Point, Polygon\n",
        "from geopandas import GeoDataFrame\n",
        "\n",
        "import numpy as np\n",
        "import matplotlib.pyplot as plt\n",
        "import matplotlib.cm\n",
        "from matplotlib import gridspec\n",
        "import seaborn as sns\n",
        "from mpl_toolkits.basemap import Basemap"
      ]
    },
    {
      "cell_type": "markdown",
      "metadata": {
        "id": "-0xBpmJg1wmX"
      },
      "source": [
        "## De dataset van 2020 bekijken"
      ]
    },
    {
      "cell_type": "code",
      "execution_count": null,
      "metadata": {
        "id": "Psu96fq4KKqG"
      },
      "outputs": [],
      "source": [
        "# Maakt een leeg dataframe.\n",
        "df_electricity = pd.DataFrame()\n",
        "\n",
        "# Vult dit dataframe met de elektriciteitsdata uit 2020.\n",
        "df_electricity = pd.read_csv('coteq_electricity_2020.csv')\n",
        "\n",
        "# Laat de eerste 5 items uit het dataset zien.\n",
        "df_electricity.head()"
      ]
    },
    {
      "cell_type": "markdown",
      "metadata": {
        "id": "hcqWu8gg2Keu"
      },
      "source": [
        "## Een kaart van Nederland maken"
      ]
    },
    {
      "cell_type": "code",
      "execution_count": null,
      "metadata": {
        "id": "9U5cFFPEnxl3"
      },
      "outputs": [],
      "source": [
        "# Importeert geografische data van Nederland\n",
        "geo_nederland = gpd.read_file('../../geo_files/gadm41_NLD_2.shp')\n",
        "\n",
        "# Laat de eerste 5 items uit het dataset zien.\n",
        "geo_nederland.head()"
      ]
    },
    {
      "cell_type": "code",
      "execution_count": null,
      "metadata": {
        "id": "xi0Jx2SZXEuH"
      },
      "outputs": [],
      "source": [
        "# Maakt een plot aan.\n",
        "f, ax = plt.subplots(figsize = (8,12))\n",
        "\n",
        "# Maakt een map aan.\n",
        "m = Basemap(resolution='i',\n",
        "            projection='merc',\n",
        "            lat_0=54.5, lon_0=-4.36,\n",
        "            llcrnrlon=3.15, llcrnrlat= 50.7, urcrnrlon=7.3, urcrnrlat=53.84, ax=ax)\n",
        "m.drawmapboundary(fill_color='#46bcec')\n",
        "m.fillcontinents(color='#ffffff',lake_color='#3792cb')\n",
        "# Voegt de juiste vormen toe voor een kaart van Nederland.\n",
        "m.readshapefile('../../geo_files/gadm41_NLD_2','geometry')\n",
        "m.drawcoastlines()\n",
        "\n",
        "legenda = []\n",
        "gemeentes = geo_nederland.NAME_1.unique()\n",
        "kleuren = sns.color_palette('Paired',len(gemeentes))\n",
        "prov_kleur = dict(zip(gemeentes,kleuren))\n",
        "# Zorgt ervoor dat elke gemeente binnen de provincie dezelfde kleur heeft.\n",
        "for gemeente in gemeentes:\n",
        "    prov_list = []\n",
        "    for info, shape in zip(m.geometry_info, m.geometry):\n",
        "        # Deze shapes moeten blauw worden, want dit zijn wateren.\n",
        "        if (gemeente not in ['Zeeuwse meren','IJsselmeer', 'Zuid Hollandse Meren']) & (info['NAME_1'] == gemeente):\n",
        "            prov_list.append(polg(np.array(shape), True) )\n",
        "    ax.add_collection(PatchCollection(prov_list, facecolor= prov_kleur[gemeente], edgecolor='black', linewidths=.15, zorder=2))\n",
        "    if gemeente not in ['Zeeuwse meren','IJsselmeer']:\n",
        "        legenda.append(Patch(facecolor=prov_kleur[gemeente], edgecolor='black',\n",
        "                         label=gemeente))\n",
        "ax.legend(handles=legenda)"
      ]
    },
    {
      "cell_type": "markdown",
      "metadata": {
        "id": "r0iHV352CAuw"
      },
      "source": [
        "## Bestanden inladen in een dataframe"
      ]
    },
    {
      "cell_type": "code",
      "execution_count": null,
      "metadata": {
        "id": "x6Ipw3DBm_q5"
      },
      "outputs": [],
      "source": [
        "def laad_bestanden(map,bestandenlijst):\n",
        "  '''\n",
        "  Deze functie laadt csv bestanden in uit een map en maakt hier een dataframe van.\n",
        "  Het resultarende dataframe is de combinatie van de data uit de verschillende csv-bestanden.\n",
        "  '''\n",
        "  df = None\n",
        "  # Maakt een initieel dataframe van de meegegeven bestanden.\n",
        "  for bestand in bestandenlijst:\n",
        "      jaar = bestand[-8:-4]\n",
        "      bedrijf = bestand.split('_')[0]\n",
        "      if df is None:\n",
        "          df = pd.read_csv(map+bestand)\n",
        "          df['year'] = jaar\n",
        "          df.index = bedrijf + '_' + jaar+'_' + df.index.astype(str)\n",
        "      else:\n",
        "          temp = pd.read_csv(map+bestand)\n",
        "          print(map+bestand)\n",
        "          temp['year'] = jaar\n",
        "          temp.index = bedrijf + '_' + jaar+'_' + temp.index.astype(str)\n",
        "          df = pd.concat([df, temp])\n",
        "  df.fillna(0)\n",
        "\n",
        "  # Voegt nog een aantal extra kolommen toe aan het eerder gemaakte dataframe.\n",
        "  df['laag_tarief_consumptie'] = df['annual_consume'].multiply(df['annual_consume_lowtarif_perc']/100)\n",
        "  df['actieve_aansluitingen'] = df['num_connections'].multiply(df['perc_of_active_connections']/100).astype('int', errors='ignore')\n",
        "  try:\n",
        "      df['aantal_smartmeters'] = df['num_connections'].multiply(df['smartmeter_perc']/100).astype(int)\n",
        "  except ValueError:\n",
        "      df['aantal_smartmeters'] = df['num_connections'].multiply(df['smartmeter_perc']/100)\n",
        "  df['netto_jaarlijkse_consumtie'] = df['annual_consume'].multiply(df['delivery_perc']/100)\n",
        "  df['eigen_productie'] = df['annual_consume'] - df['netto_jaarlijkse_consumtie']\n",
        "  df['percentage_eigen_productie'] = df['eigen_productie'].divide(df['annual_consume']/100)\n",
        "\n",
        "  return(df)\n",
        "\n",
        "map = '../Electricity/'\n",
        "alle_bestanden = [bestand for bestand in os.listdir(map)]\n",
        "alle_jaren_elec = laad_bestanden(map,alle_bestanden)"
      ]
    },
    {
      "cell_type": "code",
      "execution_count": null,
      "metadata": {
        "id": "HzD-xaeHCWwO"
      },
      "outputs": [],
      "source": [
        "# Laat de eerste 5 items zien uit het dataframe met de elektriciteitsdata uit Nederland van 2010-2020.\n",
        "alle_jaren_elec.head()"
      ]
    },
    {
      "cell_type": "markdown",
      "metadata": {
        "id": "Tjvpo8ETCPPF"
      },
      "source": [
        "## Samenvoegen van de geologische data met de data betreft het electrischiteitsverbruik in Nederland"
      ]
    },
    {
      "cell_type": "code",
      "execution_count": null,
      "metadata": {
        "id": "Ud_0Vc4hmnBw"
      },
      "outputs": [],
      "source": [
        "# Maakt integers van de postcode's.\n",
        "alle_jaren_elec['zipcode_from_int'] = alle_jaren_elec['zipcode_from'].str[:-2].astype(int)\n",
        "alle_jaren_elec['zipcode_to_int'] = alle_jaren_elec['zipcode_to'].str[:-2].astype(int)\n",
        "#alle_jaren_elec['zidiff'] = alle_jaren_elec['zipcode_to_int'] - alle_jaren_elec['zipcode_from_int']\n",
        "\n",
        "# Verdelen van kolommen in kolommen met percentages, en kolommen met aantallen.\n",
        "sumcols = ['annual_consume','num_connections','laag_tarief_consumptie','actieve_aansluitingen','aantal_smartmeters','netto_jaarlijkse_consumtie','eigen_productie']\n",
        "meancols = ['annual_consume_lowtarif_perc','delivery_perc','perc_of_active_connections','smartmeter_perc','percentage_eigen_productie']\n",
        "\n",
        "# Voegt de provider toe aan elk item in het dataset.\n",
        "alle_jaren_elec['provider'] = [f[0] for f in alle_jaren_elec.index.str.split('_')]\n",
        "\n",
        "# De geografische data per postcode.\n",
        "postalcode_geoloc = pd.read_csv('../../geo_files/4pp.csv').set_index('postcode',drop=False)\n",
        "\n",
        "alle_jaren_elec.head()"
      ]
    },
    {
      "cell_type": "code",
      "execution_count": null,
      "metadata": {
        "id": "_7zYb1Wuxd20"
      },
      "outputs": [],
      "source": [
        "def groeperen_postcode(year,df):\n",
        "  '''\n",
        "  Deze functie groepeert data op basis van de postcode voor een specifiek jaar.\n",
        "  De output is een dataframe met data voor één jaar.\n",
        "  '''\n",
        "  df = df[df.year==year]\n",
        "  pc_df = df.groupby('zipcode_from_int').sum()[sumcols]#.count()['city']\n",
        "  pc_df = pc_df.join(df.groupby('zipcode_from_int').mean()[meancols])\n",
        "  pc_df = pc_df.join(df.groupby('zipcode_from_int').count()['city']).rename({'city':'code_count'},axis=1)\n",
        "  pc_df = pc_df.join(df.groupby('zipcode_from_int').first()[['city','provider']])\n",
        "  values = [year+'_'+f for f in pc_df.columns]\n",
        "  pc_df.rename(dict(zip(pc_df.columns,values)),axis=1,inplace=True)\n",
        "  pc_df = pc_df.join(postalcode_geoloc,how='left')\n",
        "\n",
        "  geometry = [Point(xy) for xy in zip(pc_df.longitude, pc_df.latitude)]\n",
        "  crs = {'init': 'epsg:4326'}\n",
        "  gdf = GeoDataFrame(pc_df, crs=crs, geometry=geometry)\n",
        "  pc_df = gemeente_toevoegen(pc_df,gdf)\n",
        "  return pc_df\n",
        "\n",
        "def gemeente_toevoegen(df,geodf):\n",
        "  '''\n",
        "  Deze functie voegt de gemeente ID en de naam van de gemeente toe aan een bestaand dataframe.\n",
        "  '''\n",
        "  for gemeente in geo_nederland.GID_2:\n",
        "      idx = geo_nederland[geo_nederland.GID_2==gemeente].index[0]\n",
        "      gemeente_naam = geo_nederland.loc[idx,'NAME_2']\n",
        "      ingroup = list(geodf[geodf['geometry'].within(geo_nederland.loc[idx,'geometry'])==True].index)\n",
        "      df.loc[ingroup,'GID_2'] = gemeente\n",
        "      df.loc[ingroup,'NAME_2'] = gemeente_naam\n",
        "  return(df)\n",
        "\n",
        "def data_samenvoegen(df,year):\n",
        "  '''\n",
        "  Deze functie resulteert in een dataframe met de data gegroupeerd per gemeente en een dataframe gegroupeerd per polygon vorm voor één specifiek jaar.\n",
        "  '''\n",
        "  pc_df = groeperen_postcode(year,df)\n",
        "  firstcols = ['NAME_2','provincie','netnummer',year+'_provider']\n",
        "  meancols_y = [year+'_'+f for f in meancols]\n",
        "  sumcols_y = [year+'_'+f for f in sumcols]\n",
        "  sumcols_y.append(year+'_code_count')\n",
        "  final_frame = pc_df.groupby('GID_2').first()[firstcols]\n",
        "  final_frame['GID_2'] = final_frame.index\n",
        "  final_frame = final_frame.join(pc_df.groupby('GID_2').mean()[meancols_y])\n",
        "  final_frame = final_frame.join(pc_df.groupby('GID_2').sum()[sumcols_y])\n",
        "  polygon_frame = pd.DataFrame({\n",
        "      'shapes': [polg(np.array(shape),True) for shape in m.geometry],\n",
        "      'GID_2': [area['GID_2'] for area in m.geometry_info]})\n",
        "\n",
        "  polygon_frame.reset_index(drop = True, inplace = True)\n",
        "  final_frame.reset_index(drop = True, inplace = True)\n",
        "\n",
        "  polygon_frame = polygon_frame.merge(final_frame, on='GID_2', how='left')\n",
        "  return final_frame, polygon_frame"
      ]
    },
    {
      "cell_type": "markdown",
      "metadata": {
        "id": "XfWwChw1Dh2l"
      },
      "source": [
        "## Verbruik van Elektriciteit in een scatterplot"
      ]
    },
    {
      "cell_type": "code",
      "execution_count": null,
      "metadata": {
        "id": "B3ryHxpwDjrt"
      },
      "outputs": [],
      "source": [
        "# Alle informatie voor 2020.\n",
        "pc_2020 = groeperen_postcode('2020',alle_jaren_elec)\n",
        "\n",
        "# Plotten van de actieve aansluitingen in 2020\n",
        "f,ax = plt.subplots(figsize=(8,12))\n",
        "pc_2020.plot.scatter('longitude','latitude',s=pc_2020['2020_netto_jaarlijkse_consumtie'].astype(float).divide(100e2)\n",
        "                    ,alpha=.4,ax=ax)\n",
        "plt.title('Consumptie elektriciteit in 2020')"
      ]
    },
    {
      "cell_type": "markdown",
      "source": [
        "## Opsplitsen van de data in per vorm en per gemeente in Nederland"
      ],
      "metadata": {
        "id": "raA4PbrMFztJ"
      }
    },
    {
      "cell_type": "code",
      "execution_count": null,
      "metadata": {
        "id": "94KlMkH53HHR"
      },
      "outputs": [],
      "source": [
        "# Een lijst met alle jaren.\n",
        "jaren = ['2011', '2012', '2013', '2014', '2015', '2016', '2017', '2018', '2019', '2020']\n",
        "alle_jaren_samengevoegd = {}\n",
        "\n",
        "# Alle jaren samenvoegen in een dictionary en opsplitsen in verbruik per gemeente en verbruik per polygon vorm.\n",
        "for jaar in jaren:\n",
        "  verbruik_gemeente, verbruik_vorm = data_samenvoegen(alle_jaren_elec, jaar)\n",
        "  alle_jaren_samengevoegd[jaar] = [verbruik_gemeente, verbruik_vorm]"
      ]
    },
    {
      "cell_type": "markdown",
      "source": [
        "## Verbruik van elektriciteit in Nederland per gemeente"
      ],
      "metadata": {
        "id": "2r0i4ycwGN8M"
      }
    },
    {
      "cell_type": "code",
      "execution_count": null,
      "metadata": {
        "id": "qZmPhuus3OIL"
      },
      "outputs": [],
      "source": [
        "# Kaart van Nederland opstellen\n",
        "f,ax = plt.subplots(figsize=(8,12))\n",
        "m = Basemap(resolution='i', # c, l, i, h, f or None (courseness)\n",
        "            projection='merc',\n",
        "            lat_0=54.5, lon_0=-4.36,\n",
        "            llcrnrlon=3.15, llcrnrlat= 50.7, urcrnrlon=7.3, urcrnrlat=53.84, ax=ax)\n",
        "m.drawmapboundary(fill_color='#46bcec')\n",
        "m.fillcontinents(color='#f2f2f2',lake_color='#46bcec')\n",
        "m.readshapefile('../../geo_files/gadm41_NLD_2','geometry')\n",
        "m.drawcoastlines()\n",
        "\n",
        "# Alle data uit 2020 \"provincie\" een waarde heeft. In dit geval wanneer de polygon een gemeente is.\n",
        "pc2 = alle_jaren_samengevoegd['2020'][1][~alle_jaren_samengevoegd['2020'][1]['provincie'].isna()]\n",
        "pcna = alle_jaren_samengevoegd['2020'][1][alle_jaren_samengevoegd['2020'][1]['provincie'].isna()]\n",
        "pcij = alle_jaren_samengevoegd['2020'][1][(alle_jaren_samengevoegd['2020'][1].GID_2==\"NLD.6_1\")|(alle_jaren_samengevoegd['2020'][1].GID_2==\"NLD.6.1_1\")]\n",
        "\n",
        "norm = Normalize()\n",
        "cmap = plt.get_cmap('RdBu_r')\n",
        "pc = PatchCollection(pc2.shapes,zorder=2)\n",
        "pna2 = PatchCollection(pcna.shapes, zorder=2)\n",
        "pij2 = PatchCollection(pcij.shapes, zorder=2)\n",
        "\n",
        "# De kleuren van de gemeentes veranderen op basis van de consumptie van elektriciteit in die gemeente.\n",
        "pc.set_facecolor(cmap(norm(np.log10(pc2['2020_annual_consume'].values))))\n",
        "pna2.set_facecolor('gray')\n",
        "pij2.set_facecolor('#46bcec')\n",
        "\n",
        "pna2.set_edgecolor('white')\n",
        "pij2.set_edgecolor('white')\n",
        "\n",
        "ax.add_collection(pc)\n",
        "ax.add_collection(pna2)\n",
        "ax.add_collection(pij2)\n",
        "ax.set_title('Verbruik in 2020 (Log10)')\n",
        "mapper = matplotlib.cm.ScalarMappable(norm=norm, cmap=cmap)\n",
        "\n",
        "mapper.set_array(alle_jaren_samengevoegd['2020'][1]['2020_annual_consume'])"
      ]
    },
    {
      "cell_type": "markdown",
      "source": [
        "## Een barplot van de eigen productie per gemeente."
      ],
      "metadata": {
        "id": "UDZXBuq2-8Gq"
      }
    },
    {
      "cell_type": "code",
      "source": [
        "# Een barplot van het percentage elektriciteit wat zelf geproduceerd wordt per gemeente.\n",
        "fig = plt.figure(figsize=(5,55))\n",
        "plt.barh(alle_jaren_samengevoegd['2020'][0]['NAME_2'], alle_jaren_samengevoegd['2020'][0]['2020_percentage_eigen_productie'])\n",
        "plt.title('Percentage eigen productie 2020')\n",
        "plt.xlabel('Eigen productie (%)', fontsize=14)\n",
        "plt.ylabel('Gemeente', fontsize=14)\n",
        "plt.margins(0)\n",
        "plt.show()"
      ],
      "metadata": {
        "id": "IqAtT82j_AHA"
      },
      "execution_count": null,
      "outputs": []
    },
    {
      "cell_type": "markdown",
      "source": [
        "## Met dezelfde data kunnen we dit ook indelen per provincie"
      ],
      "metadata": {
        "id": "NA75hOfXzW_u"
      }
    },
    {
      "cell_type": "code",
      "source": [
        "prov_prod = alle_jaren_samengevoegd['2020'][1].groupby(['provincie'])['2020_percentage_eigen_productie'].mean()\n",
        "plt.title('Percentage eigen productie per provincie 2020')\n",
        "plt.xlabel('provincie', fontsize=14)\n",
        "plt.ylabel('Percentage (%)', fontsize=14)\n",
        "prov_prod.plot.bar()"
      ],
      "metadata": {
        "id": "bt1mwWmdu7s2"
      },
      "execution_count": null,
      "outputs": []
    },
    {
      "cell_type": "markdown",
      "source": [
        "## Eens kijken of we over de tijd heen het aantal smartmeters kunnen bekijken"
      ],
      "metadata": {
        "id": "HDWWq3DULffI"
      }
    },
    {
      "cell_type": "code",
      "execution_count": null,
      "metadata": {
        "id": "Of47c1Y3dsWu"
      },
      "outputs": [],
      "source": [
        "excludecols = ['shapes', 'GID_2', 'NAME_2', 'provincie', 'netnummer']\n",
        "jaren = ['2011', '2012', '2013', '2014', '2015', '2016', '2017', '2018', '2019', '2020']\n",
        "combineddf = pd.DataFrame()\n",
        "\n",
        "# Data van de verschillende jaren samenvoegen voor het verbruik per vorm (of polygon).\n",
        "for jaar in jaren:\n",
        "  if jaar == '2011':\n",
        "    incols = [f for f in alle_jaren_samengevoegd['2011'][1].columns if f not in excludecols]\n",
        "    combineddf = alle_jaren_samengevoegd['2018'][1].join(alle_jaren_samengevoegd['2011'][1][incols],how='left')\n",
        "  elif jaar != '2018':\n",
        "    incols = [jaar+f[4:] for f in incols]\n",
        "    combineddf = combineddf.join(alle_jaren_samengevoegd[jaar][1][incols],how='left')"
      ]
    },
    {
      "cell_type": "code",
      "execution_count": null,
      "metadata": {
        "id": "_sdSX20Keb3l"
      },
      "outputs": [],
      "source": [
        "# \"param\" kun je ook veranderen naar de naam van een andere kolom om iets anders te plotten.\n",
        "param = 'smartmeter_perc'\n",
        "f = plt.figure(figsize = (20,35))\n",
        "gs = gridspec.GridSpec(5,2)\n",
        "\n",
        "# Onderscheid maken tussen polygons waar data voor is, en polygons waar geen data voor is.\n",
        "patch1 = combineddf[~combineddf['provincie'].isna()]\n",
        "patch2 = combineddf[combineddf['provincie'].isna()]\n",
        "patch3 = combineddf[(alle_jaren_samengevoegd['2018'][1].GID_2==\"NLD.6_1\")|(alle_jaren_samengevoegd['2018'][1].GID_2==\"NLD.6.1_1\")] # ijsselmeer & zeeuwse meren\n",
        "\n",
        "jaren = ['2011', '2012', '2013', '2014', '2015', '2016', '2017', '2018', '2019', '2020']\n",
        "\n",
        "i = 0\n",
        "x = 0\n",
        "\n",
        "# Voor elk jaar wordt er een kaart aangemaakt.\n",
        "for jaar in jaren:\n",
        "  y2011 = f.add_subplot(gs[i,x]);\n",
        "  m = Basemap(resolution='l',\n",
        "              projection='merc',\n",
        "              lat_0=54.5, lon_0=-4.36,\n",
        "              llcrnrlon=3.15, llcrnrlat= 50.7, urcrnrlon=7.3, urcrnrlat=53.84, ax=y2011)\n",
        "  m.drawmapboundary(fill_color='#46bcec') #46bcec\n",
        "  m.fillcontinents(color='#f2f2f2',lake_color='#46bcec')\n",
        "  m.readshapefile('../../geo_files/gadm41_NLD_2','geometry')\n",
        "  m.drawcoastlines()\n",
        "\n",
        "  norm = Normalize()\n",
        "  cmap = plt.get_cmap('RdBu_r')\n",
        "  cmap = plt.get_cmap('Oranges')\n",
        "  pc = PatchCollection(patch1.shapes,zorder=2) # De polygons met een waarde.\n",
        "  pna = PatchCollection(patch2.shapes, zorder=2) # De polygons zonder waarde.\n",
        "  pij = PatchCollection(patch3.shapes, zorder=2) # De polygons van het ijsselmeer en de zeeuwse meren.\n",
        "  patch1[jaar+'_'+param].values[np.isnan(patch1[jaar+'_'+param].values)] = 0\n",
        "\n",
        "  # Data wordt genormaliseerd (waardes worden getransformeerd naar waardes tussen 0 en 1).\n",
        "  pc.set_facecolor(cmap(norm(patch1[jaar+'_'+param].values)))\n",
        "  pna.set_facecolor('gray')\n",
        "  pij.set_facecolor('#46bcec')\n",
        "  y2011.add_collection(pc)\n",
        "  y2011.add_collection(pna)\n",
        "  y2011.add_collection(pij)\n",
        "  mapper = matplotlib.cm.ScalarMappable(norm=norm, cmap=cmap)\n",
        "  mapper.set_array(combineddf[jaar+'_'+param])\n",
        "  plt.colorbar(mapper, shrink=0.4)\n",
        "  plt.title('Smartmeter percentage, '+jaar)\n",
        "  if x < 1:\n",
        "    x+=1\n",
        "  else:\n",
        "    x=0\n",
        "    i+=1"
      ]
    },
    {
      "cell_type": "markdown",
      "source": [
        "## Laten we er een GIF van maken!"
      ],
      "metadata": {
        "id": "N5aUHyCJQE8h"
      }
    },
    {
      "cell_type": "code",
      "execution_count": null,
      "metadata": {
        "id": "YsIneKXUfwhP"
      },
      "outputs": [],
      "source": [
        "param = 'smartmeter_perc';de_titel = 'Smartmeter percentage'\n",
        "\n",
        "# Voor elk jaar maken we een afbeelding.\n",
        "for i in range(2011,2021):\n",
        "    year = str(i)\n",
        "    f = plt.figure(figsize = (10,10))\n",
        "    gs = gridspec.GridSpec(1,1)\n",
        "\n",
        "    patch1 = combineddf[~combineddf['provincie'].isna()]\n",
        "    patch2 = combineddf[combineddf['provincie'].isna()]\n",
        "    patch3 = combineddf[(alle_jaren_samengevoegd['2018'][1].GID_2==\"NLD.6_1\")|(alle_jaren_samengevoegd['2018'][1].GID_2==\"NLD.6.1_1\")] #ijsselmeer & zeeuwse meren\n",
        "\n",
        "    # Hier wordt de kaart van Nederland samengesteld.\n",
        "    y2011 = f.add_subplot(gs[0,0]);\n",
        "    m = Basemap(resolution='l',\n",
        "                projection='merc',\n",
        "                lat_0=54.5, lon_0=-4.36,\n",
        "                llcrnrlon=3.15, llcrnrlat= 50.7, urcrnrlon=7.3, urcrnrlat=53.84, ax=y2011)\n",
        "    m.drawmapboundary(fill_color='#46bcec') #46bcec\n",
        "    m.fillcontinents(color='#f2f2f2',lake_color='#46bcec')\n",
        "    m.readshapefile('../../geo_files/gadm41_NLD_2','geometry')\n",
        "    m.drawcoastlines()\n",
        "\n",
        "    # Hier vullen we deze kaart met de gewenste (genormaliseerde) waardes.\n",
        "    norm = Normalize(vmin=0, vmax=7)\n",
        "    cmap = plt.get_cmap('RdBu_r')\n",
        "    cmap = plt.get_cmap('Oranges')\n",
        "    pc = PatchCollection(patch1.shapes,zorder=2) # De polygons met een waarde.\n",
        "    pna = PatchCollection(patch2.shapes, zorder=2) # De polygons zonder waarde.\n",
        "    pij = PatchCollection(patch3.shapes, zorder=2) # De polygons van het ijsselmeer en de zeeuwse meren.\n",
        "    pc.set_facecolor(cmap(norm(np.log10(patch1[year+'_'+param].values+0.00001))))\n",
        "    pna.set_facecolor('gray')\n",
        "    pij.set_facecolor('#46bcec')\n",
        "    y2011.add_collection(pc)\n",
        "    y2011.add_collection(pna)\n",
        "    y2011.add_collection(pij)\n",
        "    mapper = matplotlib.cm.ScalarMappable(norm=norm, cmap=cmap)\n",
        "    mapper.set_array(combineddf[year+'_'+param])\n",
        "    plt.colorbar(mapper, shrink=0.4)\n",
        "    plt.title(de_titel+', '+year)\n",
        "\n",
        "    # Exporteer de afbeelding.\n",
        "    my_path = os.path.dirname(os.path.abspath('__file__'))\n",
        "    results_dir = os.path.join(my_path, '../figs/')\n",
        "    f.savefig(results_dir + param+'_'+year+'_rdbu.png')\n",
        "    plt.close(f)\n"
      ]
    },
    {
      "cell_type": "markdown",
      "source": [
        "### We maken een aantal kopieën zodat ons GIFje niet te snel afspeelt"
      ],
      "metadata": {
        "id": "nDOYDVbQU2c_"
      }
    },
    {
      "cell_type": "code",
      "execution_count": null,
      "metadata": {
        "id": "LIie2uBwgC6O"
      },
      "outputs": [],
      "source": [
        "import imageio\n",
        "import glob\n",
        "from shutil import copyfile\n",
        "from IPython.display import Image\n",
        "\n",
        "# Het pad naar de .png bestanden.\n",
        "my_path = os.path.dirname(os.path.abspath('__file__'))\n",
        "results_dir = os.path.join(my_path, '../figs/')\n",
        "\n",
        "# Maak een kopie van elk bestand zodat het GIFje wat minder snel loopt.\n",
        "for file in os.listdir(results_dir):\n",
        "  copyfile(results_dir+file, results_dir+file.split('.')[0]+'_1.png')\n",
        "  copyfile(results_dir+file, results_dir+file.split('.')[0]+'_2.png')\n",
        "\n",
        "files = np.sort(os.listdir(results_dir))\n",
        "images = []\n",
        "# Maak het .gif bestand aan.\n",
        "for file in files:\n",
        "    images.append(imageio.imread(results_dir+file))\n",
        "imageio.mimsave('../figs/map_selfprod.gif', images)\n",
        "\n",
        "Image(\"../figs/map_selfprod.gif\")"
      ]
    }
  ],
  "metadata": {
    "colab": {
      "provenance": []
    },
    "gpuClass": "standard",
    "kernelspec": {
      "display_name": "Python 3",
      "name": "python3"
    },
    "language_info": {
      "name": "python"
    }
  },
  "nbformat": 4,
  "nbformat_minor": 0
}