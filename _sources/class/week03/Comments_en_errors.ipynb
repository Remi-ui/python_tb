{
  "nbformat": 4,
  "nbformat_minor": 0,
  "metadata": {
    "colab": {
      "provenance": []
    },
    "kernelspec": {
      "name": "python3",
      "display_name": "Python 3"
    },
    "language_info": {
      "name": "python"
    }
  },
  "cells": [
    {
      "cell_type": "markdown",
      "source": [
        "# Comments en errors"
      ],
      "metadata": {
        "id": "eM24xVpqI7WU"
      }
    },
    {
      "cell_type": "markdown",
      "source": [
        "## Comments\n",
        "\n",
        "In Python kun je commentaar toevoegen op twee manieren.\n",
        "1. Je kunt een nieuwe regel beginnen met een # (voornamelijk handig wanneer je commentaar één regel bevat.\n",
        "2. Je kunt commentaar schrijven tussen een drietal aan aanhalingstekens (\"\"\")."
      ],
      "metadata": {
        "id": "PVpCG95FKFJP"
      }
    },
    {
      "cell_type": "markdown",
      "source": [
        "### Voorbeeld"
      ],
      "metadata": {
        "id": "6Zz4WgZMKHoC"
      }
    },
    {
      "cell_type": "code",
      "source": [
        "# Dit is commentaar op één regel.\n",
        "\n",
        "\"\"\"\n",
        "Zo schrijf ik commentaar over meerdere regels.\n",
        "Dit is handig wanneer commentaar langer is dan één regel.\n",
        "\"\"\""
      ],
      "metadata": {
        "id": "71c7M2OFJ0IN"
      },
      "execution_count": null,
      "outputs": []
    },
    {
      "cell_type": "markdown",
      "source": [
        "Commentaar zorgt voor:\n",
        "- Betere leesbaarheid van je code.\n",
        "- Begrijpbaar maken van je code voor anderen en voor jezelf."
      ],
      "metadata": {
        "id": "T4OsDyrNKWoX"
      }
    },
    {
      "cell_type": "code",
      "source": [
        "def vermenigvuldig(n1, n2):\n",
        "  \"\"\"\n",
        "  Deze functie vermenigvuldigd twee getallen met elkaar.\n",
        "  :parameter n1:\n",
        "  :parameter n2:\n",
        "\n",
        "  :return: het resultaat van het vermenigvuldigen van n1 en n2.\n",
        "  \"\"\"\n",
        "\n",
        "  # Print de nummers.\n",
        "  print(\"Je eerste nummer:\", n1)\n",
        "  print(\"Je tweede nummer:\", n2)\n",
        "\n",
        "  # Uitrekenen van n1*n2.\n",
        "  return n1*n2\n",
        "\n",
        "# Roept de functie vermenigvuldig aan om twee getallen te multipliceren.\n",
        "print(\"Je uitkomst is:\", vermenigvuldig(5,3))"
      ],
      "metadata": {
        "id": "IKvoDTIwK4A8",
        "colab": {
          "base_uri": "https://localhost:8080/"
        },
        "outputId": "2ebfb1ca-7c68-4759-a510-7d658ff37dd0"
      },
      "execution_count": 15,
      "outputs": [
        {
          "output_type": "stream",
          "name": "stdout",
          "text": [
            "Je eerste nummer: 5\n",
            "Je tweede nummer: 3\n",
            "Je uitkomst is: 15\n"
          ]
        }
      ]
    },
    {
      "cell_type": "markdown",
      "source": [
        "### Opdracht 1\n",
        "\n",
        "Voorzie de volgende twee blokken code van commentaar."
      ],
      "metadata": {
        "id": "odb_RtW4K_rx"
      }
    },
    {
      "cell_type": "code",
      "source": [
        "def wisselgeld(bedrag, geld):\n",
        "  print(\"Je bedrag is\", bedrag ,\"euro.\")\n",
        "  print(\"Je hebt betaald met\", geld, \"euro\")\n",
        "  return geld - bedrag\n",
        "\n",
        "print(\"Je krijgt terug:\", wisselgeld(10, 50))"
      ],
      "metadata": {
        "colab": {
          "base_uri": "https://localhost:8080/"
        },
        "id": "xEVK1uFcOFtF",
        "outputId": "76887857-1754-46f6-9512-e11ac85575b1"
      },
      "execution_count": 16,
      "outputs": [
        {
          "output_type": "stream",
          "name": "stdout",
          "text": [
            "Je bedrag is 10 euro.\n",
            "Je hebt betaald met 50 euro\n",
            "Je krijgt terug: 40\n"
          ]
        }
      ]
    },
    {
      "cell_type": "code",
      "source": [
        "def in_koelkast(product):\n",
        "  voorraad = [\"kaas\", \"boter\", \"melk\", \"yoghurt\", \"jam\"]\n",
        "  if product in voorraad:\n",
        "    print(\"Ja,\",product,\"zit in de koelast\")\n",
        "  else:\n",
        "    print(\"Nee,\",product,\"zit niet in de koelkast\")\n",
        "\n",
        "in_koelkast(\"boter\")"
      ],
      "metadata": {
        "colab": {
          "base_uri": "https://localhost:8080/"
        },
        "id": "PnM3hlXTTVg1",
        "outputId": "d0229cf2-9b8d-4dff-f754-f59c7c87b4e8"
      },
      "execution_count": 17,
      "outputs": [
        {
          "output_type": "stream",
          "name": "stdout",
          "text": [
            "Ja, boter zit in de koelast\n"
          ]
        }
      ]
    },
    {
      "cell_type": "markdown",
      "source": [
        "## Errors"
      ],
      "metadata": {
        "id": "kLj5G2iLI_iG"
      }
    },
    {
      "cell_type": "markdown",
      "source": [
        "## Een aantal veel voorkomende errors"
      ],
      "metadata": {
        "id": "wK8giCjwI6V7"
      }
    },
    {
      "cell_type": "markdown",
      "source": [
        "Een indentatie op een plek waar Python deze niet verwacht."
      ],
      "metadata": {
        "id": "J-bOF2xaatNR"
      }
    },
    {
      "cell_type": "code",
      "execution_count": 18,
      "metadata": {
        "id": "ly8uEYN_I1jA",
        "colab": {
          "base_uri": "https://localhost:8080/",
          "height": 130
        },
        "outputId": "2d6f18a2-bc0d-47f7-b948-94c6041f4702"
      },
      "outputs": [
        {
          "output_type": "error",
          "ename": "IndentationError",
          "evalue": "ignored",
          "traceback": [
            "\u001b[0;36m  File \u001b[0;32m\"<ipython-input-18-14035cb792cd>\"\u001b[0;36m, line \u001b[0;32m2\u001b[0m\n\u001b[0;31m    print(\"lijn 2\")\u001b[0m\n\u001b[0m    ^\u001b[0m\n\u001b[0;31mIndentationError\u001b[0m\u001b[0;31m:\u001b[0m unexpected indent\n"
          ]
        }
      ],
      "source": [
        "print(\"lijn 1\")\n",
        "  print(\"lijn 2\")"
      ]
    },
    {
      "cell_type": "markdown",
      "source": [
        "Om twee waardes te vergelijken gebruik je *==* in plaats van *=*. Python geeft aan dat de syntax (ook wel opbouw) niet klopt."
      ],
      "metadata": {
        "id": "tt2uLy1Ta1MX"
      }
    },
    {
      "cell_type": "code",
      "source": [
        "x=10\n",
        "if x = 10:\n",
        "  print(\"x is equal to 10\")"
      ],
      "metadata": {
        "colab": {
          "base_uri": "https://localhost:8080/",
          "height": 130
        },
        "id": "XkDLRN5uY0wh",
        "outputId": "fa1a8913-e240-4566-c7f5-be5abffef010"
      },
      "execution_count": 42,
      "outputs": [
        {
          "output_type": "error",
          "ename": "SyntaxError",
          "evalue": "ignored",
          "traceback": [
            "\u001b[0;36m  File \u001b[0;32m\"<ipython-input-42-d625ba7c3f5e>\"\u001b[0;36m, line \u001b[0;32m2\u001b[0m\n\u001b[0;31m    if x = 10:\u001b[0m\n\u001b[0m       ^\u001b[0m\n\u001b[0;31mSyntaxError\u001b[0m\u001b[0;31m:\u001b[0m invalid syntax. Maybe you meant '==' or ':=' instead of '='?\n"
          ]
        }
      ]
    },
    {
      "cell_type": "markdown",
      "source": [
        "Python geeft aan dat *var_tset* niet gedefinieerd is. Dit komt vaak voor wanneer je een variabele perongeluk niet goed spelt."
      ],
      "metadata": {
        "id": "8gi8hXqAbd8x"
      }
    },
    {
      "cell_type": "code",
      "source": [
        "var_test = 1\n",
        "print(var_tset)"
      ],
      "metadata": {
        "colab": {
          "base_uri": "https://localhost:8080/",
          "height": 182
        },
        "id": "erCAjHlLZ5CS",
        "outputId": "533b8d91-aee0-406c-c01c-0a4e8aeeb386"
      },
      "execution_count": 24,
      "outputs": [
        {
          "output_type": "error",
          "ename": "NameError",
          "evalue": "ignored",
          "traceback": [
            "\u001b[0;31m---------------------------------------------------------------------------\u001b[0m",
            "\u001b[0;31mNameError\u001b[0m                                 Traceback (most recent call last)",
            "\u001b[0;32m<ipython-input-24-5a06ea120a9f>\u001b[0m in \u001b[0;36m<cell line: 2>\u001b[0;34m()\u001b[0m\n\u001b[1;32m      1\u001b[0m \u001b[0mvar_test\u001b[0m \u001b[0;34m=\u001b[0m \u001b[0;36m1\u001b[0m\u001b[0;34m\u001b[0m\u001b[0;34m\u001b[0m\u001b[0m\n\u001b[0;32m----> 2\u001b[0;31m \u001b[0mprint\u001b[0m\u001b[0;34m(\u001b[0m\u001b[0mvar_tset\u001b[0m\u001b[0;34m)\u001b[0m\u001b[0;34m\u001b[0m\u001b[0;34m\u001b[0m\u001b[0m\n\u001b[0m",
            "\u001b[0;31mNameError\u001b[0m: name 'var_tset' is not defined"
          ]
        }
      ]
    },
    {
      "cell_type": "markdown",
      "source": [
        "Python geeft een typeError. Dit gebeurt wanneer je iets probeert te doen met een type data waarvoor het niet geschikt is. In dit geval probeer je een getal (10) op te tellen bij de string \"hallo\"."
      ],
      "metadata": {
        "id": "Wvn27j6Hb5Vp"
      }
    },
    {
      "cell_type": "code",
      "source": [
        "x = 10\n",
        "y = \"hallo\"\n",
        "result = x + y"
      ],
      "metadata": {
        "colab": {
          "base_uri": "https://localhost:8080/",
          "height": 200
        },
        "id": "hAr66elGaHY3",
        "outputId": "7b695561-4b0b-4e54-f238-0b9afeebc282"
      },
      "execution_count": 28,
      "outputs": [
        {
          "output_type": "error",
          "ename": "TypeError",
          "evalue": "ignored",
          "traceback": [
            "\u001b[0;31m---------------------------------------------------------------------------\u001b[0m",
            "\u001b[0;31mTypeError\u001b[0m                                 Traceback (most recent call last)",
            "\u001b[0;32m<ipython-input-28-c6ffa5421893>\u001b[0m in \u001b[0;36m<cell line: 3>\u001b[0;34m()\u001b[0m\n\u001b[1;32m      1\u001b[0m \u001b[0mx\u001b[0m \u001b[0;34m=\u001b[0m \u001b[0;36m10\u001b[0m\u001b[0;34m\u001b[0m\u001b[0;34m\u001b[0m\u001b[0m\n\u001b[1;32m      2\u001b[0m \u001b[0my\u001b[0m \u001b[0;34m=\u001b[0m \u001b[0;34m\"hallo\"\u001b[0m\u001b[0;34m\u001b[0m\u001b[0;34m\u001b[0m\u001b[0m\n\u001b[0;32m----> 3\u001b[0;31m \u001b[0mresult\u001b[0m \u001b[0;34m=\u001b[0m \u001b[0mx\u001b[0m \u001b[0;34m+\u001b[0m \u001b[0my\u001b[0m\u001b[0;34m\u001b[0m\u001b[0;34m\u001b[0m\u001b[0m\n\u001b[0m",
            "\u001b[0;31mTypeError\u001b[0m: unsupported operand type(s) for +: 'int' and 'str'"
          ]
        }
      ]
    },
    {
      "cell_type": "markdown",
      "source": [
        "## Oplossen van errors\n",
        "\n",
        "Om uit te vogelen wat er mis is met je code kun je een aantal dingen doen:\n",
        "1. Bekijk het bericht van Python. Vaak geeft Python aan waar er iets fout gaat.\n",
        "2. Ga je code na en ga stukje voor stukje na of je code wel werkt.\n",
        "3. Google! Je kunt altijd Google gebruiken. Er is bijna altijd wel iemand die tegen hetzelfde probleem is aangelopen. https://stackoverflow.com/ is vaak de website waar de vraag gesteld is."
      ],
      "metadata": {
        "id": "mYREHKrcc5w0"
      }
    },
    {
      "cell_type": "markdown",
      "source": [
        "## Opdracht 2\n",
        "\n",
        "Los de error(s) op in de volgende twee blokken code."
      ],
      "metadata": {
        "id": "g-HIsTrneWxq"
      }
    },
    {
      "cell_type": "code",
      "source": [
        "x = 1\n",
        "y = 2\n",
        "\n",
        "if x + y = 3:\n",
        "  print(\"geslaagd\")\n",
        "else:\n",
        "  print(\"niet geslaagd\")"
      ],
      "metadata": {
        "colab": {
          "base_uri": "https://localhost:8080/",
          "height": 130
        },
        "id": "1DuYPzFkeTG9",
        "outputId": "c9746083-499c-40be-d957-0a7f048979f0"
      },
      "execution_count": 33,
      "outputs": [
        {
          "output_type": "error",
          "ename": "SyntaxError",
          "evalue": "ignored",
          "traceback": [
            "\u001b[0;36m  File \u001b[0;32m\"<ipython-input-33-6483bbf51f76>\"\u001b[0;36m, line \u001b[0;32m4\u001b[0m\n\u001b[0;31m    if x + y = 3:\u001b[0m\n\u001b[0m       ^\u001b[0m\n\u001b[0;31mSyntaxError\u001b[0m\u001b[0;31m:\u001b[0m cannot assign to expression here. Maybe you meant '==' instead of '='?\n"
          ]
        }
      ]
    },
    {
      "cell_type": "code",
      "source": [
        "def oppervlak(lengte, breedte):\n",
        "'''\n",
        "Deze functie berekent de oppervlakte op basis van de lengte en breedte.\n",
        ":parameter lengte: de lengte van het object\n",
        ":parameter breedte: de breedte van het object\n",
        "\n",
        "return: de oppervlakte.\n",
        "'''\n",
        "  return lengte * breede\n",
        "\n",
        "print(oppervlak(10, 25))"
      ],
      "metadata": {
        "colab": {
          "base_uri": "https://localhost:8080/",
          "height": 130
        },
        "id": "8NXhnzwre4gi",
        "outputId": "cb8ae4b5-1a15-4f84-9f6e-e276134847e2"
      },
      "execution_count": 41,
      "outputs": [
        {
          "output_type": "error",
          "ename": "IndentationError",
          "evalue": "ignored",
          "traceback": [
            "\u001b[0;36m  File \u001b[0;32m\"<ipython-input-41-891894dff0ae>\"\u001b[0;36m, line \u001b[0;32m2\u001b[0m\n\u001b[0;31m    '''\u001b[0m\n\u001b[0m    ^\u001b[0m\n\u001b[0;31mIndentationError\u001b[0m\u001b[0;31m:\u001b[0m expected an indented block after function definition on line 1\n"
          ]
        }
      ]
    },
    {
      "cell_type": "code",
      "source": [
        "x = \"1\"\n",
        "y = \"2\"\n",
        "z = \"drie\"\n",
        "q = \"4\"\n",
        "r = \"5\"\n",
        "\n",
        "int(x) + int(y) + int(z) + int(q) + int(r)"
      ],
      "metadata": {
        "colab": {
          "base_uri": "https://localhost:8080/",
          "height": 200
        },
        "id": "CS0xH2IGgxBW",
        "outputId": "c58203c6-8e9a-4be7-8c26-590510e0e1b9"
      },
      "execution_count": 44,
      "outputs": [
        {
          "output_type": "error",
          "ename": "ValueError",
          "evalue": "ignored",
          "traceback": [
            "\u001b[0;31m---------------------------------------------------------------------------\u001b[0m",
            "\u001b[0;31mValueError\u001b[0m                                Traceback (most recent call last)",
            "\u001b[0;32m<ipython-input-44-d57b00251e08>\u001b[0m in \u001b[0;36m<cell line: 7>\u001b[0;34m()\u001b[0m\n\u001b[1;32m      5\u001b[0m \u001b[0mr\u001b[0m \u001b[0;34m=\u001b[0m \u001b[0;34m\"5\"\u001b[0m\u001b[0;34m\u001b[0m\u001b[0;34m\u001b[0m\u001b[0m\n\u001b[1;32m      6\u001b[0m \u001b[0;34m\u001b[0m\u001b[0m\n\u001b[0;32m----> 7\u001b[0;31m \u001b[0mint\u001b[0m\u001b[0;34m(\u001b[0m\u001b[0mx\u001b[0m\u001b[0;34m)\u001b[0m \u001b[0;34m+\u001b[0m \u001b[0mint\u001b[0m\u001b[0;34m(\u001b[0m\u001b[0my\u001b[0m\u001b[0;34m)\u001b[0m \u001b[0;34m+\u001b[0m \u001b[0mint\u001b[0m\u001b[0;34m(\u001b[0m\u001b[0mz\u001b[0m\u001b[0;34m)\u001b[0m \u001b[0;34m+\u001b[0m \u001b[0mint\u001b[0m\u001b[0;34m(\u001b[0m\u001b[0mq\u001b[0m\u001b[0;34m)\u001b[0m \u001b[0;34m+\u001b[0m \u001b[0mint\u001b[0m\u001b[0;34m(\u001b[0m\u001b[0mr\u001b[0m\u001b[0;34m)\u001b[0m\u001b[0;34m\u001b[0m\u001b[0;34m\u001b[0m\u001b[0m\n\u001b[0m",
            "\u001b[0;31mValueError\u001b[0m: invalid literal for int() with base 10: 'drie'"
          ]
        }
      ]
    }
  ]
}