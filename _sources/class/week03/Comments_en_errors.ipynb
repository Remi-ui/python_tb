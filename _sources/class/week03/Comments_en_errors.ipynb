{
  "nbformat": 4,
  "nbformat_minor": 0,
  "metadata": {
    "colab": {
      "provenance": []
    },
    "kernelspec": {
      "name": "python3",
      "display_name": "Python 3"
    },
    "language_info": {
      "name": "python"
    }
  },
  "cells": [
    {
      "cell_type": "markdown",
      "source": [
        "# Comments en errors"
      ],
      "metadata": {
        "id": "eM24xVpqI7WU"
      }
    },
    {
      "cell_type": "markdown",
      "source": [
        "## Comments\n",
        "\n",
        "In Python kun je commentaar toevoegen op twee manieren.\n",
        "1. Je kunt een nieuwe regel beginnen met een # (voornamelijk handig wanneer je commentaar één regel bevat.\n",
        "2. Je kunt commentaar schrijven tussen een drietal aan aanhalingstekens (\"\"\")."
      ],
      "metadata": {
        "id": "PVpCG95FKFJP"
      }
    },
    {
      "cell_type": "markdown",
      "source": [
        "### Voorbeeld"
      ],
      "metadata": {
        "id": "6Zz4WgZMKHoC"
      }
    },
    {
      "cell_type": "code",
      "source": [
        "# Dit is commentaar op één regel.\n",
        "\n",
        "\"\"\"\n",
        "Zo schrijf ik commentaar over meerdere regels.\n",
        "Dit is handig wanneer commentaar langer is dan één regel.\n",
        "\"\"\""
      ],
      "metadata": {
        "id": "71c7M2OFJ0IN"
      },
      "execution_count": null,
      "outputs": []
    },
    {
      "cell_type": "markdown",
      "source": [
        "Commentaar zorgt voor:\n",
        "- Betere leesbaarheid van je code.\n",
        "- Begrijpbaar maken van je code voor anderen en voor jezelf."
      ],
      "metadata": {
        "id": "T4OsDyrNKWoX"
      }
    },
    {
      "cell_type": "code",
      "source": [
        "def vermenigvuldig(n1, n2):\n",
        "  \"\"\"\n",
        "  Deze functie vermenigvuldigd twee getallen met elkaar.\n",
        "  :parameter n1:\n",
        "  :parameter n2:\n",
        "\n",
        "  :return: het resultaat van het vermenigvuldigen van n1 en n2.\n",
        "  \"\"\"\n",
        "\n",
        "  # Print de nummers.\n",
        "  print(\"Je eerste nummer:\", n1)\n",
        "  print(\"Je tweede nummer:\", n2)\n",
        "\n",
        "  # Uitrekenen van n1*n2.\n",
        "  return n1*n2\n",
        "\n",
        "# Roept de functie vermenigvuldig aan om twee getallen te multipliceren.\n",
        "print(\"Je uitkomst is:\", vermenigvuldig(5,3))"
      ],
      "metadata": {
        "id": "IKvoDTIwK4A8"
      },
      "execution_count": null,
      "outputs": []
    },
    {
      "cell_type": "markdown",
      "source": [
        "### Opdracht 1\n",
        "\n",
        "Voorzie de volgende twee blokken code van commentaar."
      ],
      "metadata": {
        "id": "odb_RtW4K_rx"
      }
    },
    {
      "cell_type": "code",
      "source": [
        "def wisselgeld(bedrag, geld):\n",
        "  print(\"Je bedrag is\", bedrag ,\"euro.\")\n",
        "  print(\"Je hebt betaald met\", geld, \"euro\")\n",
        "  return geld - bedrag\n",
        "\n",
        "print(\"Je krijgt terug:\", wisselgeld(10, 50))"
      ],
      "metadata": {
        "id": "xEVK1uFcOFtF"
      },
      "execution_count": null,
      "outputs": []
    },
    {
      "cell_type": "code",
      "source": [
        "def in_koelkast(product):\n",
        "  voorraad = [\"kaas\", \"boter\", \"melk\", \"yoghurt\", \"jam\"]\n",
        "  if product in voorraad:\n",
        "    print(\"Ja,\",product,\"zit in de koelast\")\n",
        "  else:\n",
        "    print(\"Nee,\",product,\"zit niet in de koelkast\")\n",
        "\n",
        "in_koelkast(\"boter\")"
      ],
      "metadata": {
        "id": "PnM3hlXTTVg1"
      },
      "execution_count": null,
      "outputs": []
    },
    {
      "cell_type": "markdown",
      "source": [
        "## Errors"
      ],
      "metadata": {
        "id": "kLj5G2iLI_iG"
      }
    },
    {
      "cell_type": "markdown",
      "source": [
        "## Een aantal veel voorkomende errors"
      ],
      "metadata": {
        "id": "wK8giCjwI6V7"
      }
    },
    {
      "cell_type": "markdown",
      "source": [
        "Een indentatie op een plek waar Python deze niet verwacht."
      ],
      "metadata": {
        "id": "J-bOF2xaatNR"
      }
    },
    {
      "cell_type": "code",
      "execution_count": null,
      "metadata": {
        "id": "ly8uEYN_I1jA"
      },
      "outputs": [],
      "source": [
        "print(\"lijn 1\")\n",
        "  print(\"lijn 2\")"
      ]
    },
    {
      "cell_type": "markdown",
      "source": [
        "Om twee waardes te vergelijken gebruik je *==* in plaats van *=*. Python geeft aan dat de syntax (ook wel opbouw) niet klopt."
      ],
      "metadata": {
        "id": "tt2uLy1Ta1MX"
      }
    },
    {
      "cell_type": "code",
      "source": [
        "x=10\n",
        "if x = 10:\n",
        "  print(\"x is equal to 10\")"
      ],
      "metadata": {
        "id": "XkDLRN5uY0wh"
      },
      "execution_count": null,
      "outputs": []
    },
    {
      "cell_type": "markdown",
      "source": [
        "Python geeft aan dat *var_tset* niet gedefinieerd is. Dit komt vaak voor wanneer je een variabele perongeluk niet goed spelt."
      ],
      "metadata": {
        "id": "8gi8hXqAbd8x"
      }
    },
    {
      "cell_type": "code",
      "source": [
        "var_test = 1\n",
        "print(var_tset)"
      ],
      "metadata": {
        "id": "erCAjHlLZ5CS"
      },
      "execution_count": null,
      "outputs": []
    },
    {
      "cell_type": "markdown",
      "source": [
        "Python geeft een typeError. Dit gebeurt wanneer je iets probeert te doen met een type data waarvoor het niet geschikt is. In dit geval probeer je een getal (10) op te tellen bij de string \"hallo\"."
      ],
      "metadata": {
        "id": "Wvn27j6Hb5Vp"
      }
    },
    {
      "cell_type": "code",
      "source": [
        "x = 10\n",
        "y = \"hallo\"\n",
        "result = x + y"
      ],
      "metadata": {
        "id": "hAr66elGaHY3"
      },
      "execution_count": null,
      "outputs": []
    },
    {
      "cell_type": "markdown",
      "source": [
        "## Oplossen van errors\n",
        "\n",
        "Om uit te vogelen wat er mis is met je code kun je een aantal dingen doen:\n",
        "1. Bekijk het bericht van Python. Vaak geeft Python aan waar er iets fout gaat.\n",
        "2. Ga je code na en ga stukje voor stukje na of je code wel werkt.\n",
        "3. Google! Je kunt altijd Google gebruiken. Er is bijna altijd wel iemand die tegen hetzelfde probleem is aangelopen. https://stackoverflow.com/ is vaak de website waar de vraag gesteld is."
      ],
      "metadata": {
        "id": "mYREHKrcc5w0"
      }
    },
    {
      "cell_type": "markdown",
      "source": [
        "## Opdracht 2\n",
        "\n",
        "Los de error(s) op in de volgende twee blokken code."
      ],
      "metadata": {
        "id": "g-HIsTrneWxq"
      }
    },
    {
      "cell_type": "code",
      "source": [
        "x = 1\n",
        "y = 2\n",
        "\n",
        "if x + y = 3:\n",
        "  print(\"geslaagd\")\n",
        "else:\n",
        "  print(\"niet geslaagd\")"
      ],
      "metadata": {
        "id": "1DuYPzFkeTG9"
      },
      "execution_count": null,
      "outputs": []
    },
    {
      "cell_type": "code",
      "source": [
        "def oppervlak(lengte, breedte):\n",
        "'''\n",
        "Deze functie berekent de oppervlakte op basis van de lengte en breedte.\n",
        ":parameter lengte: de lengte van het object\n",
        ":parameter breedte: de breedte van het object\n",
        "\n",
        "return: de oppervlakte.\n",
        "'''\n",
        "  return lengte * breede\n",
        "\n",
        "print(oppervlak(10, 25))"
      ],
      "metadata": {
        "id": "8NXhnzwre4gi"
      },
      "execution_count": null,
      "outputs": []
    },
    {
      "cell_type": "code",
      "source": [
        "x = \"1\"\n",
        "y = \"2\"\n",
        "z = \"drie\"\n",
        "q = \"4\"\n",
        "r = \"5\"\n",
        "\n",
        "int(x) + int(y) + int(z) + int(q) + int(r)"
      ],
      "metadata": {
        "id": "CS0xH2IGgxBW"
      },
      "execution_count": null,
      "outputs": []
    }
  ]
}
