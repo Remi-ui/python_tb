{
  "cells": [
    {
      "cell_type": "markdown",
      "source": [
        "# Oefening visualiseren met Python"
      ],
      "metadata": {
        "id": "s9AkAt1x8eqz"
      },
      "id": "s9AkAt1x8eqz"
    },
    {
      "cell_type": "markdown",
      "source": [
        "Doorloop de volgende opdrachten voor deze week. Je kunt dit bestand hier openen:\n",
        "\n",
        "[![Open In Colab](https://colab.research.google.com/assets/colab-badge.svg)](https://colab.research.google.com/drive/1FQFLlGHAtsBJfrWhkVCwZGOKVPNN3XuC?usp=sharing)\n",
        "\n",
        "**Dit is geen weekopdracht, deze opdracht wordt uitgevoerd tijdens de les in week 5.**"
      ],
      "metadata": {
        "id": "n9nfKacN-w3a"
      },
      "id": "n9nfKacN-w3a"
    },
    {
      "cell_type": "markdown",
      "source": [
        "## Ophalen van het dataset van het internet\n",
        "\n",
        "---\n",
        "\n",
        "\n",
        "\n"
      ],
      "metadata": {
        "id": "4iiUugd7e6E0"
      },
      "id": "4iiUugd7e6E0"
    },
    {
      "cell_type": "code",
      "execution_count": null,
      "outputs": [],
      "source": [
        "import pandas as pd\n",
        "df = pd.read_csv('https://files.consumerfinance.gov/ccdb/complaints.csv.zip')"
      ],
      "metadata": {
        "ExecuteTime": {
          "end_time": "2023-11-30T13:12:22.801238Z",
          "start_time": "2023-11-30T13:11:01.632696Z"
        },
        "id": "f7cb5ca21d68fcad"
      },
      "id": "f7cb5ca21d68fcad"
    },
    {
      "cell_type": "markdown",
      "source": [
        "### Hoe groot is dit dataset?"
      ],
      "metadata": {
        "id": "I0G4rn_VfIh9"
      },
      "id": "I0G4rn_VfIh9"
    },
    {
      "cell_type": "code",
      "execution_count": null,
      "outputs": [],
      "source": [
        "print(df.shape)\n",
        "df_nonan = df[df['Consumer complaint narrative'].notna() & df['Product'].notna()]\n",
        "print(df_nonan.shape)"
      ],
      "metadata": {
        "ExecuteTime": {
          "end_time": "2023-11-30T13:13:31.842244Z",
          "start_time": "2023-11-30T13:13:31.250899Z"
        },
        "id": "42ec02531c0b8fbf"
      },
      "id": "42ec02531c0b8fbf"
    },
    {
      "cell_type": "markdown",
      "source": [
        "## We nemen een deel van het dataset om verder mee te werken"
      ],
      "metadata": {
        "id": "vs73iZ7Uf0Nu"
      },
      "id": "vs73iZ7Uf0Nu"
    },
    {
      "cell_type": "markdown",
      "source": [
        "De dataset is te groot om gemakkelijk mee te werken, daarom doen we de opdracht maar met een deel (sample)."
      ],
      "metadata": {
        "id": "Wqq4zQJJww9q"
      },
      "id": "Wqq4zQJJww9q"
    },
    {
      "cell_type": "code",
      "execution_count": null,
      "outputs": [],
      "source": [
        "sample=df_nonan.sample(n=100000, ignore_index=True)\n",
        "sample=sample[[\"Product\",\"Consumer complaint narrative\"]]\n",
        "print(sample.shape)"
      ],
      "metadata": {
        "ExecuteTime": {
          "end_time": "2023-11-30T13:31:52.838627Z",
          "start_time": "2023-11-30T13:31:52.595841Z"
        },
        "id": "de0732a3456da473"
      },
      "id": "de0732a3456da473"
    },
    {
      "cell_type": "code",
      "source": [
        "sample.head()"
      ],
      "metadata": {
        "id": "Z-_KzdAQ17lj"
      },
      "id": "Z-_KzdAQ17lj",
      "execution_count": null,
      "outputs": []
    },
    {
      "cell_type": "code",
      "execution_count": null,
      "outputs": [],
      "source": [
        "sample.Product.value_counts()"
      ],
      "metadata": {
        "ExecuteTime": {
          "end_time": "2023-11-30T13:31:54.913182Z",
          "start_time": "2023-11-30T13:31:54.900050Z"
        },
        "id": "cfa6ad35f1b5ba3d"
      },
      "id": "cfa6ad35f1b5ba3d"
    },
    {
      "cell_type": "markdown",
      "source": [
        "### Labels aanpassen"
      ],
      "metadata": {
        "collapsed": false,
        "id": "bf51fd853f09f292"
      },
      "id": "bf51fd853f09f292"
    },
    {
      "cell_type": "code",
      "execution_count": null,
      "outputs": [],
      "source": [
        "sample.loc[sample['Product'] == 'Credit reporting', 'Product'] = 'Credit reporting, credit repair services, or other personal consumer reports'\n",
        "sample.loc[sample['Product'] == 'Credit reporting or other personal consumer reports', 'Product'] = 'Credit reporting, credit repair services, or other personal consumer reports'\n",
        "sample.loc[sample['Product'] == 'Credit card', 'Product'] = 'Credit card or prepaid card'\n",
        "sample.loc[sample['Product'] == 'Prepaid card', 'Product'] = 'Credit card or prepaid card'\n",
        "sample.loc[sample['Product'] == 'Payday loan', 'Product'] = 'Payday loan, title loan, or personal loan'\n",
        "sample.loc[sample['Product'] == 'Vehicle loan or lease', 'Product'] = 'Payday loan, title loan, or personal loan'\n",
        "sample.loc[sample['Product'] == 'Virtual currency', 'Product'] = 'Money transfer, virtual currency, or money service'\n",
        "sample = sample[sample.Product != 'Other financial service']"
      ],
      "metadata": {
        "ExecuteTime": {
          "end_time": "2023-11-30T13:31:57.133082Z",
          "start_time": "2023-11-30T13:31:57.092349Z"
        },
        "id": "13ac98cd9ece165c"
      },
      "id": "13ac98cd9ece165c"
    },
    {
      "cell_type": "code",
      "execution_count": null,
      "outputs": [],
      "source": [
        "sample.Product.value_counts()"
      ],
      "metadata": {
        "ExecuteTime": {
          "end_time": "2023-11-30T13:32:00.314554Z",
          "start_time": "2023-11-30T13:32:00.310350Z"
        },
        "id": "a7cd27063dc2a046"
      },
      "id": "a7cd27063dc2a046"
    },
    {
      "cell_type": "markdown",
      "source": [
        "## Opdracht 1: Visualiseer de data"
      ],
      "metadata": {
        "id": "c31FL4smhtax"
      },
      "id": "c31FL4smhtax"
    },
    {
      "cell_type": "markdown",
      "source": [
        "Maak de data inzichtelijk middels 5 visualisaties. Wees creatief! Je kunt jezelf hierbij vragen stellen als:\n",
        "\n",
        "\n",
        "*   Hoe is de data verdeeld?\n",
        "*   Hoe verschillen de verschillende soorten klachten van elkaar?\n",
        "*   Wat voor overeenkomsten zijn er tussen de klachten?\n",
        "*   Wat voor woorden gebruiken mensen veelal?\n",
        "\n",
        "\n",
        "\n",
        "\n"
      ],
      "metadata": {
        "id": "UNJutBE0j9r3"
      },
      "id": "UNJutBE0j9r3"
    },
    {
      "cell_type": "markdown",
      "source": [
        "Voorbeelden van visualisaties zijn hier te vinden:\n",
        "\n",
        "\n",
        "*   https://medium.com/plotly/nlp-visualisations-for-clear-immediate-insights-into-text-data-and-outputs-9ebfab168d5b\n",
        "*   https://www.geeksforgeeks.org/visualizing-text-data-techniques-and-applications/\n",
        "*   https://medium.com/@nimritakoul01/text-visualization-using-scattertext-python-library-129858131a36\n",
        "*   https://towardsdatascience.com/advanced-visualisations-for-text-data-analysis-fc8add8796e2\n",
        "\n",
        "Andere bronnen die kunnen helpen:\n",
        "*   https://www.geeksforgeeks.org/top-python-libraries-for-data-visualization/\n",
        "*   https://www.w3schools.com/python/numpy/numpy_random_seaborn.asp\n",
        "*   https://www.w3schools.com/python/matplotlib_pyplot.asp\n",
        "\n"
      ],
      "metadata": {
        "id": "1WnVixOV4taP"
      },
      "id": "1WnVixOV4taP"
    },
    {
      "cell_type": "markdown",
      "source": [
        "### Visualisatie 1"
      ],
      "metadata": {
        "id": "OY-Mwmx13-HY"
      },
      "id": "OY-Mwmx13-HY"
    },
    {
      "cell_type": "code",
      "source": [
        "# Jouw code!"
      ],
      "metadata": {
        "id": "eLgRVMDUh0uC"
      },
      "id": "eLgRVMDUh0uC",
      "execution_count": null,
      "outputs": []
    },
    {
      "cell_type": "markdown",
      "source": [
        "### Visualisatie 2"
      ],
      "metadata": {
        "id": "jFPn0WW04DN6"
      },
      "id": "jFPn0WW04DN6"
    },
    {
      "cell_type": "code",
      "source": [
        "# Jouw code!"
      ],
      "metadata": {
        "id": "GSobmrQX4HFs"
      },
      "execution_count": null,
      "outputs": [],
      "id": "GSobmrQX4HFs"
    },
    {
      "cell_type": "markdown",
      "source": [
        "### Visualisatie 3"
      ],
      "metadata": {
        "id": "6BODVkGj4FfN"
      },
      "id": "6BODVkGj4FfN"
    },
    {
      "cell_type": "code",
      "source": [
        "# Jouw code!"
      ],
      "metadata": {
        "id": "ebo3cDGe4HXI"
      },
      "execution_count": null,
      "outputs": [],
      "id": "ebo3cDGe4HXI"
    },
    {
      "cell_type": "markdown",
      "source": [
        "### Visualisatie 4"
      ],
      "metadata": {
        "id": "w_xGNnQX4F-9"
      },
      "id": "w_xGNnQX4F-9"
    },
    {
      "cell_type": "code",
      "source": [
        "# Jouw code!"
      ],
      "metadata": {
        "id": "YtgpdFU44HyS"
      },
      "execution_count": null,
      "outputs": [],
      "id": "YtgpdFU44HyS"
    },
    {
      "cell_type": "markdown",
      "source": [
        "### Visualisatie 5"
      ],
      "metadata": {
        "id": "vsEAXaHA4GCJ"
      },
      "id": "vsEAXaHA4GCJ"
    },
    {
      "cell_type": "code",
      "source": [
        "# Jouw code!"
      ],
      "metadata": {
        "id": "iss-tK_O4H_Z"
      },
      "execution_count": null,
      "outputs": [],
      "id": "iss-tK_O4H_Z"
    },
    {
      "cell_type": "markdown",
      "source": [
        "## Opdracht 2: Redeneren met de data"
      ],
      "metadata": {
        "collapsed": false,
        "id": "6fc155dc85a29b2"
      },
      "id": "6fc155dc85a29b2"
    },
    {
      "cell_type": "markdown",
      "source": [
        "Gegeven de visualisaties:\n",
        "\n",
        "\n",
        "*   Wat ben je te weten gekomen over de data?\n",
        "*   Zijn er opvallende verschillen of overeenkomsten tussen de verschillende soorten klachten?\n",
        "*   Stel dat de data van een bank is met verschillende afdelingen waarover de verschillende klachten gaan; wat zou je de bank met jouw visualisaties willen adviseren?\n",
        "\n"
      ],
      "metadata": {
        "id": "eAXmphMC2p6g"
      },
      "id": "eAXmphMC2p6g"
    }
  ],
  "metadata": {
    "kernelspec": {
      "display_name": "Python 3",
      "language": "python",
      "name": "python3"
    },
    "language_info": {
      "codemirror_mode": {
        "name": "ipython",
        "version": 2
      },
      "file_extension": ".py",
      "mimetype": "text/x-python",
      "name": "python",
      "nbconvert_exporter": "python",
      "pygments_lexer": "ipython2",
      "version": "2.7.6"
    },
    "colab": {
      "provenance": [],
      "collapsed_sections": [
        "vs73iZ7Uf0Nu"
      ]
    }
  },
  "nbformat": 4,
  "nbformat_minor": 5
}