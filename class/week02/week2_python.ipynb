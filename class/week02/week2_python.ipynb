{
  "cells": [
    {
      "attachments": {},
      "cell_type": "markdown",
      "metadata": {
        "id": "QHyBgM0Innzy"
      },
      "source": [
        "# Python introductie"
      ]
    },
    {
      "attachments": {},
      "cell_type": "markdown",
      "metadata": {
        "id": "D4sWfnJsn5UZ"
      },
      "source": [
        "## Variables"
      ]
    },
    {
      "cell_type": "code",
      "execution_count": 2,
      "metadata": {
        "id": "JW-1ZRMGIqpA"
      },
      "outputs": [],
      "source": [
        "x = 5 \n",
        "naam = \"Marie\"\n",
        "leeftijd = 15.7 \n",
        "een_zin = \"Dit is een hele zin.\""
      ]
    },
    {
      "attachments": {},
      "cell_type": "markdown",
      "metadata": {
        "id": "lTgYxRn4oCRN"
      },
      "source": [
        "## Data Types"
      ]
    },
    {
      "cell_type": "code",
      "execution_count": 3,
      "metadata": {
        "colab": {
          "base_uri": "https://localhost:8080/"
        },
        "id": "qayk4deg9x_4",
        "outputId": "33791b42-c72e-49ee-89f3-0ca339ec752e"
      },
      "outputs": [
        {
          "name": "stdout",
          "output_type": "stream",
          "text": [
            "5\n",
            "Marie\n",
            "15.7\n",
            "Dit is een hele zin.\n",
            "<class 'int'>\n",
            "<class 'str'>\n",
            "<class 'float'>\n",
            "<class 'str'>\n"
          ]
        }
      ],
      "source": [
        "print(x)\n",
        "print(naam)\n",
        "print(leeftijd)\n",
        "print(een_zin)\n",
        "\n",
        "print(type(x))\n",
        "print(type(naam))\n",
        "print(type(leeftijd))\n",
        "print(type(een_zin))"
      ]
    },
    {
      "attachments": {},
      "cell_type": "markdown",
      "metadata": {
        "id": "MgthldRKn8u8"
      },
      "source": [
        "## Operators"
      ]
    },
    {
      "cell_type": "code",
      "execution_count": 6,
      "metadata": {
        "colab": {
          "base_uri": "https://localhost:8080/"
        },
        "id": "q5CzNeux_CIB",
        "outputId": "47d63883-c45a-4a01-b49b-869c771533f1"
      },
      "outputs": [
        {
          "name": "stdout",
          "output_type": "stream",
          "text": [
            "15\n",
            "6\n"
          ]
        }
      ],
      "source": [
        "print(5*3)\n",
        "print(x+1)"
      ]
    },
    {
      "attachments": {},
      "cell_type": "markdown",
      "metadata": {
        "id": "_P99EzcWoU28"
      },
      "source": [
        "## Lists/tuples/sets"
      ]
    },
    {
      "cell_type": "code",
      "execution_count": 6,
      "metadata": {
        "colab": {
          "base_uri": "https://localhost:8080/"
        },
        "id": "iLV2Gmg9n94Q",
        "outputId": "f3bbb32c-f859-4d63-9ced-ef2efffe4168"
      },
      "outputs": [
        {
          "name": "stdout",
          "output_type": "stream",
          "text": [
            "[1, 'Marie', 2]\n",
            "(1, 'Marie', 2)\n",
            "{1, 2, 'Marie'}\n",
            "<class 'list'>\n",
            "<class 'tuple'>\n",
            "<class 'set'>\n"
          ]
        }
      ],
      "source": [
        "a_list = [1,naam,2]\n",
        "a_tuple = (1,naam,2)\n",
        "a_set = {1,naam,2}\n",
        "\n",
        "print(a_list)\n",
        "print(a_tuple)\n",
        "print(a_set)\n",
        "\n",
        "print(type(a_list))\n",
        "print(type(a_tuple))\n",
        "print(type(a_set))"
      ]
    },
    {
      "attachments": {},
      "cell_type": "markdown",
      "metadata": {
        "id": "4NWkCYXsoYm6"
      },
      "source": [
        "## Dictionaries"
      ]
    },
    {
      "cell_type": "code",
      "execution_count": 10,
      "metadata": {
        "colab": {
          "base_uri": "https://localhost:8080/"
        },
        "id": "3Q37OOi9piEv",
        "outputId": "f7b33013-2fa0-42c6-96fb-f55da6756d6e"
      },
      "outputs": [
        {
          "name": "stdout",
          "output_type": "stream",
          "text": [
            "Ford\n"
          ]
        }
      ],
      "source": [
        "a_dict = {\n",
        "    \"brand\": \"Ford\", \"model\": \"Mustang\", \"year\": 1964\n",
        "}\n",
        "\n",
        "print(a_dict[\"brand\"])"
      ]
    },
    {
      "attachments": {},
      "cell_type": "markdown",
      "metadata": {
        "id": "MljrW7JSoc83"
      },
      "source": [
        "## Conditions"
      ]
    },
    {
      "cell_type": "code",
      "execution_count": 13,
      "metadata": {
        "colab": {
          "base_uri": "https://localhost:8080/"
        },
        "id": "vpRNl1Y8smii",
        "outputId": "16ae814f-9c0c-4a2d-a335-34df48382e51"
      },
      "outputs": [
        {
          "name": "stdout",
          "output_type": "stream",
          "text": [
            "False\n",
            "True\n",
            "False\n",
            "True\n",
            "True\n",
            "False\n"
          ]
        }
      ],
      "source": [
        "a = 1\n",
        "b = 2\n",
        "\n",
        "print(a == b)\n",
        "print(a != b)\n",
        "print(a > b)\n",
        "print(a < b)\n",
        "print(a <= b)\n",
        "print(a >= b)"
      ]
    },
    {
      "attachments": {},
      "cell_type": "markdown",
      "metadata": {
        "id": "yOHByCdPofbi"
      },
      "source": [
        "## Loops"
      ]
    },
    {
      "cell_type": "code",
      "execution_count": 11,
      "metadata": {
        "colab": {
          "base_uri": "https://localhost:8080/"
        },
        "id": "_q2chKUVsKCM",
        "outputId": "2cb928d5-55ff-40cf-87a3-e51079894fe2"
      },
      "outputs": [
        {
          "name": "stdout",
          "output_type": "stream",
          "text": [
            "Ford\n",
            "Volvo\n",
            "Audi\n"
          ]
        }
      ],
      "source": [
        "merken = [\"Ford\", \"Volvo\", \"Audi\"]\n",
        "for x in merken:\n",
        "  print(x)"
      ]
    },
    {
      "attachments": {},
      "cell_type": "markdown",
      "metadata": {
        "id": "aN2Cd8fNoiXW"
      },
      "source": [
        "## Functions"
      ]
    },
    {
      "cell_type": "code",
      "execution_count": 15,
      "metadata": {
        "colab": {
          "base_uri": "https://localhost:8080/"
        },
        "id": "vgSaYhWIvk6U",
        "outputId": "bb2adfcd-19fb-4085-985d-c981e4ea3e94"
      },
      "outputs": [
        {
          "name": "stdout",
          "output_type": "stream",
          "text": [
            "18\n",
            "12\n"
          ]
        }
      ],
      "source": [
        "def vermenigvuldig(a,b):\n",
        "  print(a*b)\n",
        "\n",
        "vermenigvuldig(3,6)\n",
        "vermenigvuldig(4,3)"
      ]
    }
  ],
  "metadata": {
    "colab": {
      "provenance": []
    },
    "kernelspec": {
      "display_name": "Python 3",
      "name": "python3"
    },
    "language_info": {
      "name": "python"
    }
  },
  "nbformat": 4,
  "nbformat_minor": 0
}
