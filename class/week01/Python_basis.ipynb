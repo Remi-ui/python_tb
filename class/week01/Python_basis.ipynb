{
  "nbformat": 4,
  "nbformat_minor": 0,
  "metadata": {
    "colab": {
      "provenance": []
    },
    "kernelspec": {
      "name": "python3",
      "display_name": "Python 3"
    }
  },
  "cells": [
    {
      "cell_type": "markdown",
      "metadata": {
        "id": "kw1B2R_WCU7X"
      },
      "source": [
        "Welkom in het eerste notebook van deze course. In dit notebook zullen we kennismaken met Python. Veel succes en bovenal veel plezier gewenst."
      ]
    },
    {
      "cell_type": "markdown",
      "source": [
        "# Opdracht"
      ],
      "metadata": {
        "id": "olSWciF64qz8"
      }
    },
    {
      "cell_type": "markdown",
      "source": [
        "## Bestand openen & inleveren"
      ],
      "metadata": {
        "id": "0VBJ3xfctKC1"
      }
    },
    {
      "cell_type": "markdown",
      "source": [
        "Dit bestand kun je hier openen:\n",
        "\n",
        "[![Open In Colab](https://colab.research.google.com/assets/colab-badge.svg)](https://colab.research.google.com/drive/1d3ASXs61X0Omq1iU9s0bEILwAg3-6b_1?usp=sharing)\n",
        "\n",
        "Lever het resultaat als *.ipynb* bestand in via eJournal. Dit doe je door de volgende stappen te volgen nadat je klaar bent:\n",
        "\n",
        "File > Download > Download .ipynb"
      ],
      "metadata": {
        "id": "sKO2gdsPtRtd"
      }
    },
    {
      "cell_type": "markdown",
      "metadata": {
        "id": "YV4sYCn8EPwb"
      },
      "source": [
        "# Notebooks"
      ]
    },
    {
      "cell_type": "markdown",
      "metadata": {
        "id": "2HuuwOcQEYQI"
      },
      "source": [
        "Tijdens deze course gebruiken we Google Colab als primaire manier om te oefenen met Python. Colab maakt het mogelijk om Python code gratis in de cloud te draaien zonder Python te hoeven installeren op je computer. Ook kun je met Google Colab gebruik maken van de beschikbare [GPU's](https://en.wikipedia.org/wiki/Graphics_processing_unit)."
      ]
    },
    {
      "cell_type": "markdown",
      "metadata": {
        "id": "t0XmMkPuGGOs"
      },
      "source": [
        "Het document dat je leest is geen statische webpagina, maar een interactieve omgeving, ook wel notebook genoemd, waarmee je code kunt schrijven en uitvoeren. Notebooks bestaan ​​uit zogenaamde codecellen, blokken van één of meer Python-instructies. Hier is bijvoorbeeld een codecel die het resultaat van een berekening (het aantal seconden in een dag) opslaat in een variabele en het resultaat print:"
      ]
    },
    {
      "cell_type": "code",
      "metadata": {
        "id": "qeGAvLq1ALJ4",
        "colab": {
          "base_uri": "https://localhost:8080/"
        },
        "outputId": "21ea35d9-9520-4d2f-809b-f7bc504498c7"
      },
      "source": [
        "seconden_in_een_dag = 24 * 60 * 60\n",
        "print(seconden_in_een_dag)"
      ],
      "execution_count": null,
      "outputs": [
        {
          "output_type": "stream",
          "name": "stdout",
          "text": [
            "86400\n"
          ]
        }
      ]
    },
    {
      "cell_type": "markdown",
      "metadata": {
        "id": "njoPs3q1G75-"
      },
      "source": [
        "Klik op de \"play\" knop om de code uit te voeren (hover over de bovenstaande code, dan komt de knop tevoorschijn). Soms moet je even wachten, maar na een aantal seconden zou er bij de play knop een groen vinkje moeten verschijnen waarbij onder het blok code het resultaat van de berekening komt te staan. Ook is het mogelijk om de code uit te voeren met Ctrl + Enter (Command + Enter voor Mac gebruikers)."
      ]
    },
    {
      "cell_type": "markdown",
      "metadata": {
        "id": "NvdYaBgHHdbw"
      },
      "source": [
        "Variabele uit de ene cel kun je ook gebruiken in latere cellen, zoals hier:"
      ]
    },
    {
      "cell_type": "code",
      "metadata": {
        "id": "s1kp5Zv0JBSx",
        "colab": {
          "base_uri": "https://localhost:8080/"
        },
        "outputId": "f2b75b73-d50b-4356-9264-9b83fdb9782d"
      },
      "source": [
        "seconden_in_een_week = 7 * seconden_in_een_dag\n",
        "seconden_in_een_week"
      ],
      "execution_count": null,
      "outputs": [
        {
          "output_type": "execute_result",
          "data": {
            "text/plain": [
              "604800"
            ]
          },
          "metadata": {},
          "execution_count": 5
        }
      ]
    },
    {
      "cell_type": "markdown",
      "metadata": {
        "id": "uALfY4q1JFQ0"
      },
      "source": [
        "Let op dat de volgorde van uitvoering van de cellen belangrijk is. Als we bijvoorbeeld de cel die *seconden_in_een_dag* opslaat niet van tevoren uitvoeren, zal de bovenstaande cel een fout genereren, omdat deze afhankelijk is van deze variabele. Om er zeker van te zijn dat alle cellen in de juiste volgorde uitvoert, kunt je ook klikken op \"Runtime\" in het hoofdmenu en vervolgens op \"Run all\"."
      ]
    },
    {
      "cell_type": "markdown",
      "metadata": {
        "id": "HvXs_KaoRWQ9"
      },
      "source": [
        "**Oefening** Voeg een cel toe onder deze cel: klik op deze cel en klik vervolgens op \"+ Code\" (door net onder deze cel met je muis te hoveren). Bereken in de nieuwe cel het aantal seconden in een jaar door de variabele *seconden_in_een_dag* opnieuw te gebruiken. Voer de nieuwe cel uit."
      ]
    },
    {
      "cell_type": "markdown",
      "metadata": {
        "id": "qyLSwlxnJqXX"
      },
      "source": [
        "# Python"
      ]
    },
    {
      "cell_type": "markdown",
      "metadata": {
        "id": "3ltwm91eJyQM"
      },
      "source": [
        "Python is een van de populairste programmeertalen voor machine learning, zowel in de academische wereld als in de publieke sector. In deze sectie zullen we een begin maken met de basis van Python. Ook zul je hier een aantal kleine opdrachtjes vinden om mee te oefenen."
      ]
    },
    {
      "cell_type": "markdown",
      "source": [
        "## Variabelen"
      ],
      "metadata": {
        "id": "G-PlJ2ynVue_"
      }
    },
    {
      "cell_type": "markdown",
      "source": [
        "### Uitleg"
      ],
      "metadata": {
        "id": "TS1F5zmOYWD6"
      }
    },
    {
      "cell_type": "code",
      "source": [
        "#Een variabele slaat een stukje informatie op en geeft het een naam. Hieronder bijvoorbeeld verwijst de variabele \"een_nummer\" naar het getal 42\n",
        "een_nummer = 42\n",
        "\n",
        "#Zoals je ziet werkt dit vergelijkbaar als in wiskunde. We zouden op deze manier ook bijvoorbeeld een variabele x kunnen aanmaken en laten verwijzen naar het getal 4.\n",
        "x = 4\n",
        "\n",
        "#Als we vervolgens deze bij elkaar optellen gebeurt waarschijnlijk hetgeen wat je had verwacht.\n",
        "print(een_nummer + x)\n",
        "\n",
        "#Druk zoals je ook eerder deed op de play knop om dit stuk code uit te voeren."
      ],
      "metadata": {
        "colab": {
          "base_uri": "https://localhost:8080/"
        },
        "id": "2ROi3RL5Vsek",
        "outputId": "6749a506-7620-4c33-ebe6-62f7739010d5"
      },
      "execution_count": null,
      "outputs": [
        {
          "output_type": "stream",
          "name": "stdout",
          "text": [
            "46\n"
          ]
        }
      ]
    },
    {
      "cell_type": "markdown",
      "source": [
        "### Opdracht 1"
      ],
      "metadata": {
        "id": "3IJvuk83XVsH"
      }
    },
    {
      "cell_type": "markdown",
      "source": [
        "Maak nu in het onderstaande code blok je eigen variabelen aan en tel ze bij elkaar op!"
      ],
      "metadata": {
        "id": "LID-ka0TWpL9"
      }
    },
    {
      "cell_type": "code",
      "source": [
        "#Jouw code"
      ],
      "metadata": {
        "id": "lXludISnXMHU"
      },
      "execution_count": null,
      "outputs": []
    },
    {
      "cell_type": "markdown",
      "source": [
        "### Uitleg"
      ],
      "metadata": {
        "id": "uAYkX5_BYkSc"
      }
    },
    {
      "cell_type": "markdown",
      "source": [
        "Buiten getallen kun je in variabelen ook andere soorten informatie opslaan, dat zullen we hieronder kort behandelen."
      ],
      "metadata": {
        "id": "CH2Tbnc1Ys3Q"
      }
    },
    {
      "cell_type": "code",
      "source": [
        "#Dit noemen we 'booleans' ook wel true/false waardes.\n",
        "is_het_donderdag = True\n",
        "is_het_woensdag = False\n",
        "\n",
        "#Dit is een floating point nummer, een nummer met getallen achter de komma. Getallen zonder getallen achter de komma noemen we integers.\n",
        "pi = 3.1415\n",
        "\n",
        "#In deze variabele hebben we een stuk tekst geplaatst. Dit wordt aangegeven door de aanhalingstekens. Zo'n stuk tekst heet ook wel een string.\n",
        "mijn_naam = \"Jacob\"\n",
        "\n",
        "#Ook als je nummers plaatst tussen aanhalingstekens ziet Python dit als een string (dus een stukje tekst).\n",
        "mijn_leeftijd = \"43\"\n",
        "\n",
        "# Voer ook dit maar eens uit met de play knop.\n",
        "print(is_het_woensdag)\n",
        "print(mijn_naam)\n",
        "print(pi)\n",
        "\n",
        "# Het is wel interessant om te zien wat er hier gebeurt:\n",
        "print(mijn_leeftijd + mijn_leeftijd)"
      ],
      "metadata": {
        "colab": {
          "base_uri": "https://localhost:8080/"
        },
        "id": "EDs7UcjKWqMt",
        "outputId": "089ea7af-e48c-4cc4-d0b1-3f270a12d9e0"
      },
      "execution_count": null,
      "outputs": [
        {
          "output_type": "stream",
          "name": "stdout",
          "text": [
            "False\n",
            "Jacob\n",
            "3.1415\n",
            "4343\n"
          ]
        }
      ]
    },
    {
      "cell_type": "markdown",
      "source": [
        "### Opdracht 2"
      ],
      "metadata": {
        "id": "tZnzClqsa_TX"
      }
    },
    {
      "cell_type": "markdown",
      "source": [
        "Maak twee strings en tel ze bij elkaar op."
      ],
      "metadata": {
        "id": "TIuwMLtwmGfE"
      }
    },
    {
      "cell_type": "code",
      "source": [
        "#Jouw code"
      ],
      "metadata": {
        "id": "tWc8RtXda-Et"
      },
      "execution_count": null,
      "outputs": []
    },
    {
      "cell_type": "markdown",
      "source": [
        "## Andere soorten data in Python"
      ],
      "metadata": {
        "id": "43_gEWOjbajU"
      }
    },
    {
      "cell_type": "markdown",
      "source": [
        "Om nuttige dingen te kunnen doen met Python willen we vaak op andere manieren met data werken, waarbij alles in een variabele plaatsen niet overzichtelijk/efficiënt/werkbaar is. Hier zullen we er een paar behandelen."
      ],
      "metadata": {
        "id": "4gCRZ2xSbrNH"
      }
    },
    {
      "cell_type": "markdown",
      "source": [
        "### Uitleg"
      ],
      "metadata": {
        "id": "4s4Le4fSdTLn"
      }
    },
    {
      "cell_type": "markdown",
      "source": [
        "Wat kunnen we doen als we niet 1 nummer willen opslaan, maar meerdere nummers? Die kunnen we plaatsen in een lijst (list)."
      ],
      "metadata": {
        "id": "oxfhQgntcD4W"
      }
    },
    {
      "cell_type": "code",
      "source": [
        "#Als we een lijst met prijzen hebben van een product kunnen we die opslaan in een lijst.\n",
        "#De lijst wordt aangegeven door blokhaken, waarbij de prijzen worden gescheiden door komma's.\n",
        "prijzen = [10, 20, 15, 12]\n",
        "\n",
        "#We kunnen een lijst ook eerst leeg aanmaken en daarna pas vullen.\n",
        "kleuren = []\n",
        "kleuren.append(\"blauw\")\n",
        "kleuren.append(\"rood\")\n",
        "kleuren.append(\"paars\")\n",
        "kleuren.append(\"oranje\")\n",
        "\n",
        "#Voer ook dit maar eens uit, als het goed is zie je twee lijsten.\n",
        "print(prijzen)\n",
        "print(kleuren)"
      ],
      "metadata": {
        "colab": {
          "base_uri": "https://localhost:8080/"
        },
        "id": "DW6fxTL5cMHe",
        "outputId": "71776bad-dccd-4d4e-bdaf-4e699e0f1dd0"
      },
      "execution_count": null,
      "outputs": [
        {
          "output_type": "stream",
          "name": "stdout",
          "text": [
            "[10, 20, 15, 12]\n",
            "['blauw', 'rood', 'paars']\n"
          ]
        }
      ]
    },
    {
      "cell_type": "markdown",
      "source": [
        "### Opdracht 3"
      ],
      "metadata": {
        "id": "FWpI69t4dPh4"
      }
    },
    {
      "cell_type": "markdown",
      "source": [
        "Eerder maakten we de lijst *kleuren* aan. Het is mogelijk om in het midden van een lijst een item toe te voegen. Voeg een extra kleur toe in het midden van de lijst. Je mag het internet gebruiken!"
      ],
      "metadata": {
        "id": "W4fX11lAddyg"
      }
    },
    {
      "cell_type": "code",
      "source": [
        "#Jouw code"
      ],
      "metadata": {
        "id": "ergDstixdcj0"
      },
      "execution_count": null,
      "outputs": []
    },
    {
      "cell_type": "markdown",
      "source": [
        "### Uitleg"
      ],
      "metadata": {
        "id": "nVFI4BBpekC1"
      }
    },
    {
      "cell_type": "markdown",
      "source": [
        "Eerder telden we al variabelen bij elkaar op. We kunnen natuurlijk ook delen, vermenigvuldigen etc. Dit gaat in Python als volgt:"
      ],
      "metadata": {
        "id": "V27p8SxHenRM"
      }
    },
    {
      "cell_type": "code",
      "source": [
        "#Hier maken we twee variabelen aan om mee te werken.\n",
        "nummer1 = 3.75\n",
        "nummer2 = 5.25\n",
        "\n",
        "# De plus/min/keer/delen door noemen we ook wel operators. We doen er ten slotte \"operaties\" mee.\n",
        "print(nummer1 + nummer2)\n",
        "print(nummer1 - nummer2)\n",
        "print(nummer1 * nummer2)\n",
        "print(nummer1 / nummer2)\n",
        "\n",
        "#Hier is ook nog een interessante, dit is de modulo:\n",
        "print(5 % 2)"
      ],
      "metadata": {
        "colab": {
          "base_uri": "https://localhost:8080/"
        },
        "id": "us3rj4Nter3W",
        "outputId": "465a6615-ca78-405f-ee8f-99310e60b382"
      },
      "execution_count": null,
      "outputs": [
        {
          "output_type": "stream",
          "name": "stdout",
          "text": [
            "9.0\n",
            "-1.5\n",
            "19.6875\n",
            "0.7142857142857143\n",
            "1\n"
          ]
        }
      ]
    },
    {
      "cell_type": "markdown",
      "source": [
        "### Opdracht 4"
      ],
      "metadata": {
        "id": "64uSaIOKftpl"
      }
    },
    {
      "cell_type": "markdown",
      "source": [
        "Maak een berekening waarbij je gebruik maakt van verschillende operators."
      ],
      "metadata": {
        "id": "ZA5TwQg4fwf6"
      }
    },
    {
      "cell_type": "code",
      "source": [
        "#Jouw code"
      ],
      "metadata": {
        "id": "PGi-S5Gefo_Q"
      },
      "execution_count": null,
      "outputs": []
    },
    {
      "cell_type": "markdown",
      "source": [
        "### Uitleg"
      ],
      "metadata": {
        "id": "-2zSXCvggtGS"
      }
    },
    {
      "cell_type": "markdown",
      "source": [
        "Soms willen we een stukje code meerdere keren uitvoeren. Hiervoor kunnen we een loop gebruiken. We kunnen bijvoorbeeld elk item in een lijst printen. Laten we de eerder gemaakte lijst *prijzen* gebruiken. Meer informatie over loops is ook [hier](https://www.w3schools.com/python/python_for_loops.asp) te vinden."
      ],
      "metadata": {
        "id": "3WJM0e16guvk"
      }
    },
    {
      "cell_type": "code",
      "source": [
        "#Voor elk item in de lijst prijs printen we het item in de lijst.\n",
        "for item in prijzen:\n",
        "  print(item)"
      ],
      "metadata": {
        "colab": {
          "base_uri": "https://localhost:8080/"
        },
        "id": "o-QlW5r9hH6o",
        "outputId": "c806a5fb-c76e-4287-bab8-10c96cd66956"
      },
      "execution_count": null,
      "outputs": [
        {
          "output_type": "stream",
          "name": "stdout",
          "text": [
            "10\n",
            "20\n",
            "15\n",
            "12\n"
          ]
        }
      ]
    },
    {
      "cell_type": "markdown",
      "source": [
        "Op deze manier kunnen we ook operaties uitvoeren op de items in de lijst:"
      ],
      "metadata": {
        "id": "qR74n0m_hxxf"
      }
    },
    {
      "cell_type": "code",
      "source": [
        "#We printen de items en tellen er 1 bij op.\n",
        "for item in prijzen:\n",
        "  print(item + 1)"
      ],
      "metadata": {
        "colab": {
          "base_uri": "https://localhost:8080/"
        },
        "id": "By2m6RuYhv55",
        "outputId": "c27730f3-3e07-4d0d-a406-47c59ed8d3b8"
      },
      "execution_count": null,
      "outputs": [
        {
          "output_type": "stream",
          "name": "stdout",
          "text": [
            "11\n",
            "21\n",
            "16\n",
            "13\n"
          ]
        }
      ]
    },
    {
      "cell_type": "markdown",
      "source": [
        "We hebben op deze manier de lijst zelf niet aangepast, die blijft onveranderd, kijk maar:"
      ],
      "metadata": {
        "id": "rfF6_lnTiHg1"
      }
    },
    {
      "cell_type": "code",
      "source": [
        "print(prijzen)"
      ],
      "metadata": {
        "colab": {
          "base_uri": "https://localhost:8080/"
        },
        "id": "fTIAyvTWgsGb",
        "outputId": "656119f6-29ad-49ef-fe5b-a87c3e949638"
      },
      "execution_count": null,
      "outputs": [
        {
          "output_type": "stream",
          "name": "stdout",
          "text": [
            "[10, 20, 15, 12]\n"
          ]
        }
      ]
    },
    {
      "cell_type": "markdown",
      "source": [
        "### Opdracht 5"
      ],
      "metadata": {
        "id": "4CYWJOEnir3m"
      }
    },
    {
      "cell_type": "markdown",
      "source": [
        "Maak een loop met de lijst *kleuren*."
      ],
      "metadata": {
        "id": "XRcj3ic1ixEc"
      }
    },
    {
      "cell_type": "code",
      "source": [
        "#Jouw code"
      ],
      "metadata": {
        "id": "PTV99NvSiumC"
      },
      "execution_count": null,
      "outputs": []
    },
    {
      "cell_type": "markdown",
      "source": [
        "### Opdracht 6"
      ],
      "metadata": {
        "id": "Qed4igJNjkni"
      }
    },
    {
      "cell_type": "markdown",
      "source": [
        "Deze laatste opdracht is iets moeilijker. Maak een loop waarmee je alle getallen uit de lijst *prijzen* bij elkaar op telt. Het resultaat 57 als je het goed hebt gedaan."
      ],
      "metadata": {
        "id": "C-tJYaRgjmtb"
      }
    },
    {
      "cell_type": "code",
      "source": [
        "#Jouw code"
      ],
      "metadata": {
        "id": "C2CdwxpDj7l-"
      },
      "execution_count": null,
      "outputs": []
    }
  ]
}