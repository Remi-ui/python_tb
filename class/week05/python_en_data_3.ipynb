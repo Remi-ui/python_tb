{
  "nbformat": 4,
  "nbformat_minor": 0,
  "metadata": {
    "colab": {
      "provenance": []
    },
    "kernelspec": {
      "name": "python3",
      "display_name": "Python 3"
    },
    "language_info": {
      "name": "python"
    },
    "gpuClass": "standard"
  },
  "cells": [
    {
      "cell_type": "markdown",
      "source": [
        "# Week 5: Python & Data 3"
      ],
      "metadata": {
        "id": "hbuhzRgrx72x"
      }
    },
    {
      "cell_type": "code",
      "execution_count": 1,
      "metadata": {
        "colab": {
          "base_uri": "https://localhost:8080/"
        },
        "id": "7liesKmEHuxu",
        "outputId": "b7d00cee-fecb-420f-e0b8-4baca8b10db7"
      },
      "outputs": [
        {
          "output_type": "stream",
          "name": "stdout",
          "text": [
            "Mounted at /content/drive\n"
          ]
        }
      ],
      "source": [
        "from google.colab import drive\n",
        "drive.mount('/content/drive')"
      ]
    },
    {
      "cell_type": "code",
      "source": [
        "%cd drive/MyDrive/electricity_dataset/Electricity"
      ],
      "metadata": {
        "colab": {
          "base_uri": "https://localhost:8080/"
        },
        "id": "kys2xthKKFsD",
        "outputId": "6ed4c517-de7c-4b7e-d9af-2ef1719f3ad4"
      },
      "execution_count": 2,
      "outputs": [
        {
          "output_type": "stream",
          "name": "stdout",
          "text": [
            "/content/drive/MyDrive/electricity_dataset/Electricity\n"
          ]
        }
      ]
    },
    {
      "cell_type": "code",
      "source": [
        "import pandas as pd\n",
        "import os\n",
        "\n",
        "!pip install geopandas\n",
        "!pip3 install basemap\n",
        "\n",
        "from matplotlib.patches import Polygon as PG\n",
        "from matplotlib.collections import PatchCollection\n",
        "from matplotlib.colors import Normalize\n",
        "import geopandas as gpd\n",
        "import folium\n",
        "from matplotlib.patches import Patch\n",
        "from shapely.geometry import Point, Polygon\n",
        "import shapely.speedups\n",
        "from geopandas import GeoDataFrame\n",
        "\n",
        "import numpy as np # linear algebra\n",
        "import pandas as pd # data processing, CSV file I/O (e.g. pd.read_csv)\n",
        "from datetime import datetime\n",
        "import matplotlib.pyplot as plt\n",
        "import matplotlib.cm\n",
        "from matplotlib import gridspec\n",
        "import matplotlib as mpl\n",
        "import seaborn as sns\n",
        " \n",
        "from mpl_toolkits.basemap import Basemap\n",
        "from matplotlib.patches import Polygon\n",
        "from matplotlib.collections import PatchCollection\n",
        "from matplotlib.colors import Normalize"
      ],
      "metadata": {
        "id": "j95F_Ex3Kqtz",
        "colab": {
          "base_uri": "https://localhost:8080/",
          "height": 988
        },
        "outputId": "fdf57b78-68a5-4edf-8ba7-e42427c7a984"
      },
      "execution_count": 3,
      "outputs": [
        {
          "output_type": "stream",
          "name": "stdout",
          "text": [
            "Looking in indexes: https://pypi.org/simple, https://us-python.pkg.dev/colab-wheels/public/simple/\n",
            "Collecting geopandas\n",
            "  Downloading geopandas-0.13.0-py3-none-any.whl (1.1 MB)\n",
            "\u001b[2K     \u001b[90m━━━━━━━━━━━━━━━━━━━━━━━━━━━━━━━━━━━━━━━━\u001b[0m \u001b[32m1.1/1.1 MB\u001b[0m \u001b[31m17.9 MB/s\u001b[0m eta \u001b[36m0:00:00\u001b[0m\n",
            "\u001b[?25hCollecting fiona>=1.8.19 (from geopandas)\n",
            "  Downloading Fiona-1.9.4.post1-cp310-cp310-manylinux_2_17_x86_64.manylinux2014_x86_64.whl (16.4 MB)\n",
            "\u001b[2K     \u001b[90m━━━━━━━━━━━━━━━━━━━━━━━━━━━━━━━━━━━━━━━━\u001b[0m \u001b[32m16.4/16.4 MB\u001b[0m \u001b[31m77.0 MB/s\u001b[0m eta \u001b[36m0:00:00\u001b[0m\n",
            "\u001b[?25hRequirement already satisfied: packaging in /usr/local/lib/python3.10/dist-packages (from geopandas) (23.1)\n",
            "Requirement already satisfied: pandas>=1.1.0 in /usr/local/lib/python3.10/dist-packages (from geopandas) (1.5.3)\n",
            "Collecting pyproj>=3.0.1 (from geopandas)\n",
            "  Downloading pyproj-3.5.0-cp310-cp310-manylinux_2_17_x86_64.manylinux2014_x86_64.whl (7.7 MB)\n",
            "\u001b[2K     \u001b[90m━━━━━━━━━━━━━━━━━━━━━━━━━━━━━━━━━━━━━━━━\u001b[0m \u001b[32m7.7/7.7 MB\u001b[0m \u001b[31m92.9 MB/s\u001b[0m eta \u001b[36m0:00:00\u001b[0m\n",
            "\u001b[?25hRequirement already satisfied: shapely>=1.7.1 in /usr/local/lib/python3.10/dist-packages (from geopandas) (2.0.1)\n",
            "Requirement already satisfied: attrs>=19.2.0 in /usr/local/lib/python3.10/dist-packages (from fiona>=1.8.19->geopandas) (23.1.0)\n",
            "Requirement already satisfied: certifi in /usr/local/lib/python3.10/dist-packages (from fiona>=1.8.19->geopandas) (2022.12.7)\n",
            "Requirement already satisfied: click~=8.0 in /usr/local/lib/python3.10/dist-packages (from fiona>=1.8.19->geopandas) (8.1.3)\n",
            "Collecting click-plugins>=1.0 (from fiona>=1.8.19->geopandas)\n",
            "  Downloading click_plugins-1.1.1-py2.py3-none-any.whl (7.5 kB)\n",
            "Collecting cligj>=0.5 (from fiona>=1.8.19->geopandas)\n",
            "  Downloading cligj-0.7.2-py3-none-any.whl (7.1 kB)\n",
            "Requirement already satisfied: six in /usr/local/lib/python3.10/dist-packages (from fiona>=1.8.19->geopandas) (1.16.0)\n",
            "Requirement already satisfied: python-dateutil>=2.8.1 in /usr/local/lib/python3.10/dist-packages (from pandas>=1.1.0->geopandas) (2.8.2)\n",
            "Requirement already satisfied: pytz>=2020.1 in /usr/local/lib/python3.10/dist-packages (from pandas>=1.1.0->geopandas) (2022.7.1)\n",
            "Requirement already satisfied: numpy>=1.21.0 in /usr/local/lib/python3.10/dist-packages (from pandas>=1.1.0->geopandas) (1.22.4)\n",
            "Installing collected packages: pyproj, cligj, click-plugins, fiona, geopandas\n",
            "Successfully installed click-plugins-1.1.1 cligj-0.7.2 fiona-1.9.4.post1 geopandas-0.13.0 pyproj-3.5.0\n",
            "Looking in indexes: https://pypi.org/simple, https://us-python.pkg.dev/colab-wheels/public/simple/\n",
            "Collecting basemap\n",
            "  Downloading basemap-1.3.7-cp310-cp310-manylinux1_x86_64.whl (860 kB)\n",
            "\u001b[2K     \u001b[90m━━━━━━━━━━━━━━━━━━━━━━━━━━━━━━━━━━━━━━\u001b[0m \u001b[32m860.6/860.6 kB\u001b[0m \u001b[31m15.4 MB/s\u001b[0m eta \u001b[36m0:00:00\u001b[0m\n",
            "\u001b[?25hCollecting basemap-data<1.4,>=1.3.2 (from basemap)\n",
            "  Downloading basemap_data-1.3.2-py2.py3-none-any.whl (30.5 MB)\n",
            "\u001b[2K     \u001b[90m━━━━━━━━━━━━━━━━━━━━━━━━━━━━━━━━━━━━━━━━\u001b[0m \u001b[32m30.5/30.5 MB\u001b[0m \u001b[31m25.8 MB/s\u001b[0m eta \u001b[36m0:00:00\u001b[0m\n",
            "\u001b[?25hCollecting pyshp<2.4,>=1.2 (from basemap)\n",
            "  Downloading pyshp-2.3.1-py2.py3-none-any.whl (46 kB)\n",
            "\u001b[2K     \u001b[90m━━━━━━━━━━━━━━━━━━━━━━━━━━━━━━━━━━━━━━━━\u001b[0m \u001b[32m46.5/46.5 kB\u001b[0m \u001b[31m4.5 MB/s\u001b[0m eta \u001b[36m0:00:00\u001b[0m\n",
            "\u001b[?25hRequirement already satisfied: matplotlib<3.8,>=1.5 in /usr/local/lib/python3.10/dist-packages (from basemap) (3.7.1)\n",
            "Requirement already satisfied: pyproj<3.6.0,>=1.9.3 in /usr/local/lib/python3.10/dist-packages (from basemap) (3.5.0)\n",
            "Requirement already satisfied: numpy<1.25,>=1.22 in /usr/local/lib/python3.10/dist-packages (from basemap) (1.22.4)\n",
            "Requirement already satisfied: contourpy>=1.0.1 in /usr/local/lib/python3.10/dist-packages (from matplotlib<3.8,>=1.5->basemap) (1.0.7)\n",
            "Requirement already satisfied: cycler>=0.10 in /usr/local/lib/python3.10/dist-packages (from matplotlib<3.8,>=1.5->basemap) (0.11.0)\n",
            "Requirement already satisfied: fonttools>=4.22.0 in /usr/local/lib/python3.10/dist-packages (from matplotlib<3.8,>=1.5->basemap) (4.39.3)\n",
            "Requirement already satisfied: kiwisolver>=1.0.1 in /usr/local/lib/python3.10/dist-packages (from matplotlib<3.8,>=1.5->basemap) (1.4.4)\n",
            "Requirement already satisfied: packaging>=20.0 in /usr/local/lib/python3.10/dist-packages (from matplotlib<3.8,>=1.5->basemap) (23.1)\n",
            "Requirement already satisfied: pillow>=6.2.0 in /usr/local/lib/python3.10/dist-packages (from matplotlib<3.8,>=1.5->basemap) (8.4.0)\n",
            "Requirement already satisfied: pyparsing>=2.3.1 in /usr/local/lib/python3.10/dist-packages (from matplotlib<3.8,>=1.5->basemap) (3.0.9)\n",
            "Requirement already satisfied: python-dateutil>=2.7 in /usr/local/lib/python3.10/dist-packages (from matplotlib<3.8,>=1.5->basemap) (2.8.2)\n",
            "Requirement already satisfied: certifi in /usr/local/lib/python3.10/dist-packages (from pyproj<3.6.0,>=1.9.3->basemap) (2022.12.7)\n",
            "Requirement already satisfied: six>=1.5 in /usr/local/lib/python3.10/dist-packages (from python-dateutil>=2.7->matplotlib<3.8,>=1.5->basemap) (1.16.0)\n",
            "Installing collected packages: pyshp, basemap-data, basemap\n",
            "Successfully installed basemap-1.3.7 basemap-data-1.3.2 pyshp-2.3.1\n"
          ]
        },
        {
          "output_type": "display_data",
          "data": {
            "application/vnd.colab-display-data+json": {
              "pip_warning": {
                "packages": [
                  "mpl_toolkits"
                ]
              }
            }
          },
          "metadata": {}
        }
      ]
    },
    {
      "cell_type": "code",
      "source": [
        "df_csv_append = pd.DataFrame()\n",
        "\n",
        "df_csv_append = pd.read_csv('coteq_electricity_2020.csv')"
      ],
      "metadata": {
        "colab": {
          "base_uri": "https://localhost:8080/"
        },
        "id": "Psu96fq4KKqG",
        "outputId": "2d5e8cc9-7500-4df6-c3b6-cc9953fdd58b"
      },
      "execution_count": 4,
      "outputs": [
        {
          "output_type": "execute_result",
          "data": {
            "text/plain": [
              "2575"
            ]
          },
          "metadata": {},
          "execution_count": 4
        }
      ]
    },
    {
      "cell_type": "markdown",
      "source": [
        "## Netwerk Data"
      ],
      "metadata": {
        "id": "PvkXIe_qsdy4"
      }
    },
    {
      "cell_type": "code",
      "source": [
        "df_csv_append.head()"
      ],
      "metadata": {
        "colab": {
          "base_uri": "https://localhost:8080/",
          "height": 443
        },
        "id": "JRqN61fONaoi",
        "outputId": "6a706c7b-79d5-4cb9-9d76-55b43539f2e3"
      },
      "execution_count": 7,
      "outputs": [
        {
          "output_type": "execute_result",
          "data": {
            "text/plain": [
              "               net_manager                          purchase_area  \\\n",
              "0  Cogas Infra & Beheer BV  Netbeheerder Centraal Overijssel B.V.   \n",
              "1  Cogas Infra & Beheer BV  Netbeheerder Centraal Overijssel B.V.   \n",
              "2  Cogas Infra & Beheer BV  Netbeheerder Centraal Overijssel B.V.   \n",
              "3  Cogas Infra & Beheer BV  Netbeheerder Centraal Overijssel B.V.   \n",
              "4  Cogas Infra & Beheer BV  Netbeheerder Centraal Overijssel B.V.   \n",
              "\n",
              "          street zipcode_from zipcode_to   city  num_connections  \\\n",
              "0    Dorpsstraat       7468CP     7471AA  ENTER               19   \n",
              "1  De Stoevelaar       7471AB     7471AB   GOOR               40   \n",
              "2  De Stoevelaar       7471AC     7471AC   GOOR               16   \n",
              "3  De Stoevelaar       7471AD     7471AE   GOOR               41   \n",
              "4     Kerkstraat       7471AG     7471AG   GOOR               14   \n",
              "\n",
              "   delivery_perc  perc_of_active_connections  type_conn_perc  \\\n",
              "0             89                          95              89   \n",
              "1            100                          98              78   \n",
              "2            100                         100             100   \n",
              "3             93                          85              54   \n",
              "4             86                         100              36   \n",
              "\n",
              "  type_of_connection  annual_consume  annual_consume_lowtarif_perc  \\\n",
              "0               1x35            3810                            89   \n",
              "1               1x35            2637                            95   \n",
              "2               1x35            1366                           100   \n",
              "3               3x25            5101                            93   \n",
              "4               1x25            4315                           100   \n",
              "\n",
              "   smartmeter_perc  \n",
              "0               89  \n",
              "1               83  \n",
              "2               94  \n",
              "3               78  \n",
              "4               93  "
            ],
            "text/html": [
              "\n",
              "  <div id=\"df-59ed742e-4cad-4611-8042-bb975f261d29\">\n",
              "    <div class=\"colab-df-container\">\n",
              "      <div>\n",
              "<style scoped>\n",
              "    .dataframe tbody tr th:only-of-type {\n",
              "        vertical-align: middle;\n",
              "    }\n",
              "\n",
              "    .dataframe tbody tr th {\n",
              "        vertical-align: top;\n",
              "    }\n",
              "\n",
              "    .dataframe thead th {\n",
              "        text-align: right;\n",
              "    }\n",
              "</style>\n",
              "<table border=\"1\" class=\"dataframe\">\n",
              "  <thead>\n",
              "    <tr style=\"text-align: right;\">\n",
              "      <th></th>\n",
              "      <th>net_manager</th>\n",
              "      <th>purchase_area</th>\n",
              "      <th>street</th>\n",
              "      <th>zipcode_from</th>\n",
              "      <th>zipcode_to</th>\n",
              "      <th>city</th>\n",
              "      <th>num_connections</th>\n",
              "      <th>delivery_perc</th>\n",
              "      <th>perc_of_active_connections</th>\n",
              "      <th>type_conn_perc</th>\n",
              "      <th>type_of_connection</th>\n",
              "      <th>annual_consume</th>\n",
              "      <th>annual_consume_lowtarif_perc</th>\n",
              "      <th>smartmeter_perc</th>\n",
              "    </tr>\n",
              "  </thead>\n",
              "  <tbody>\n",
              "    <tr>\n",
              "      <th>0</th>\n",
              "      <td>Cogas Infra &amp; Beheer BV</td>\n",
              "      <td>Netbeheerder Centraal Overijssel B.V.</td>\n",
              "      <td>Dorpsstraat</td>\n",
              "      <td>7468CP</td>\n",
              "      <td>7471AA</td>\n",
              "      <td>ENTER</td>\n",
              "      <td>19</td>\n",
              "      <td>89</td>\n",
              "      <td>95</td>\n",
              "      <td>89</td>\n",
              "      <td>1x35</td>\n",
              "      <td>3810</td>\n",
              "      <td>89</td>\n",
              "      <td>89</td>\n",
              "    </tr>\n",
              "    <tr>\n",
              "      <th>1</th>\n",
              "      <td>Cogas Infra &amp; Beheer BV</td>\n",
              "      <td>Netbeheerder Centraal Overijssel B.V.</td>\n",
              "      <td>De Stoevelaar</td>\n",
              "      <td>7471AB</td>\n",
              "      <td>7471AB</td>\n",
              "      <td>GOOR</td>\n",
              "      <td>40</td>\n",
              "      <td>100</td>\n",
              "      <td>98</td>\n",
              "      <td>78</td>\n",
              "      <td>1x35</td>\n",
              "      <td>2637</td>\n",
              "      <td>95</td>\n",
              "      <td>83</td>\n",
              "    </tr>\n",
              "    <tr>\n",
              "      <th>2</th>\n",
              "      <td>Cogas Infra &amp; Beheer BV</td>\n",
              "      <td>Netbeheerder Centraal Overijssel B.V.</td>\n",
              "      <td>De Stoevelaar</td>\n",
              "      <td>7471AC</td>\n",
              "      <td>7471AC</td>\n",
              "      <td>GOOR</td>\n",
              "      <td>16</td>\n",
              "      <td>100</td>\n",
              "      <td>100</td>\n",
              "      <td>100</td>\n",
              "      <td>1x35</td>\n",
              "      <td>1366</td>\n",
              "      <td>100</td>\n",
              "      <td>94</td>\n",
              "    </tr>\n",
              "    <tr>\n",
              "      <th>3</th>\n",
              "      <td>Cogas Infra &amp; Beheer BV</td>\n",
              "      <td>Netbeheerder Centraal Overijssel B.V.</td>\n",
              "      <td>De Stoevelaar</td>\n",
              "      <td>7471AD</td>\n",
              "      <td>7471AE</td>\n",
              "      <td>GOOR</td>\n",
              "      <td>41</td>\n",
              "      <td>93</td>\n",
              "      <td>85</td>\n",
              "      <td>54</td>\n",
              "      <td>3x25</td>\n",
              "      <td>5101</td>\n",
              "      <td>93</td>\n",
              "      <td>78</td>\n",
              "    </tr>\n",
              "    <tr>\n",
              "      <th>4</th>\n",
              "      <td>Cogas Infra &amp; Beheer BV</td>\n",
              "      <td>Netbeheerder Centraal Overijssel B.V.</td>\n",
              "      <td>Kerkstraat</td>\n",
              "      <td>7471AG</td>\n",
              "      <td>7471AG</td>\n",
              "      <td>GOOR</td>\n",
              "      <td>14</td>\n",
              "      <td>86</td>\n",
              "      <td>100</td>\n",
              "      <td>36</td>\n",
              "      <td>1x25</td>\n",
              "      <td>4315</td>\n",
              "      <td>100</td>\n",
              "      <td>93</td>\n",
              "    </tr>\n",
              "  </tbody>\n",
              "</table>\n",
              "</div>\n",
              "      <button class=\"colab-df-convert\" onclick=\"convertToInteractive('df-59ed742e-4cad-4611-8042-bb975f261d29')\"\n",
              "              title=\"Convert this dataframe to an interactive table.\"\n",
              "              style=\"display:none;\">\n",
              "        \n",
              "  <svg xmlns=\"http://www.w3.org/2000/svg\" height=\"24px\"viewBox=\"0 0 24 24\"\n",
              "       width=\"24px\">\n",
              "    <path d=\"M0 0h24v24H0V0z\" fill=\"none\"/>\n",
              "    <path d=\"M18.56 5.44l.94 2.06.94-2.06 2.06-.94-2.06-.94-.94-2.06-.94 2.06-2.06.94zm-11 1L8.5 8.5l.94-2.06 2.06-.94-2.06-.94L8.5 2.5l-.94 2.06-2.06.94zm10 10l.94 2.06.94-2.06 2.06-.94-2.06-.94-.94-2.06-.94 2.06-2.06.94z\"/><path d=\"M17.41 7.96l-1.37-1.37c-.4-.4-.92-.59-1.43-.59-.52 0-1.04.2-1.43.59L10.3 9.45l-7.72 7.72c-.78.78-.78 2.05 0 2.83L4 21.41c.39.39.9.59 1.41.59.51 0 1.02-.2 1.41-.59l7.78-7.78 2.81-2.81c.8-.78.8-2.07 0-2.86zM5.41 20L4 18.59l7.72-7.72 1.47 1.35L5.41 20z\"/>\n",
              "  </svg>\n",
              "      </button>\n",
              "      \n",
              "  <style>\n",
              "    .colab-df-container {\n",
              "      display:flex;\n",
              "      flex-wrap:wrap;\n",
              "      gap: 12px;\n",
              "    }\n",
              "\n",
              "    .colab-df-convert {\n",
              "      background-color: #E8F0FE;\n",
              "      border: none;\n",
              "      border-radius: 50%;\n",
              "      cursor: pointer;\n",
              "      display: none;\n",
              "      fill: #1967D2;\n",
              "      height: 32px;\n",
              "      padding: 0 0 0 0;\n",
              "      width: 32px;\n",
              "    }\n",
              "\n",
              "    .colab-df-convert:hover {\n",
              "      background-color: #E2EBFA;\n",
              "      box-shadow: 0px 1px 2px rgba(60, 64, 67, 0.3), 0px 1px 3px 1px rgba(60, 64, 67, 0.15);\n",
              "      fill: #174EA6;\n",
              "    }\n",
              "\n",
              "    [theme=dark] .colab-df-convert {\n",
              "      background-color: #3B4455;\n",
              "      fill: #D2E3FC;\n",
              "    }\n",
              "\n",
              "    [theme=dark] .colab-df-convert:hover {\n",
              "      background-color: #434B5C;\n",
              "      box-shadow: 0px 1px 3px 1px rgba(0, 0, 0, 0.15);\n",
              "      filter: drop-shadow(0px 1px 2px rgba(0, 0, 0, 0.3));\n",
              "      fill: #FFFFFF;\n",
              "    }\n",
              "  </style>\n",
              "\n",
              "      <script>\n",
              "        const buttonEl =\n",
              "          document.querySelector('#df-59ed742e-4cad-4611-8042-bb975f261d29 button.colab-df-convert');\n",
              "        buttonEl.style.display =\n",
              "          google.colab.kernel.accessAllowed ? 'block' : 'none';\n",
              "\n",
              "        async function convertToInteractive(key) {\n",
              "          const element = document.querySelector('#df-59ed742e-4cad-4611-8042-bb975f261d29');\n",
              "          const dataTable =\n",
              "            await google.colab.kernel.invokeFunction('convertToInteractive',\n",
              "                                                     [key], {});\n",
              "          if (!dataTable) return;\n",
              "\n",
              "          const docLinkHtml = 'Like what you see? Visit the ' +\n",
              "            '<a target=\"_blank\" href=https://colab.research.google.com/notebooks/data_table.ipynb>data table notebook</a>'\n",
              "            + ' to learn more about interactive tables.';\n",
              "          element.innerHTML = '';\n",
              "          dataTable['output_type'] = 'display_data';\n",
              "          await google.colab.output.renderOutput(dataTable, element);\n",
              "          const docLink = document.createElement('div');\n",
              "          docLink.innerHTML = docLinkHtml;\n",
              "          element.appendChild(docLink);\n",
              "        }\n",
              "      </script>\n",
              "    </div>\n",
              "  </div>\n",
              "  "
            ]
          },
          "metadata": {},
          "execution_count": 7
        }
      ]
    },
    {
      "cell_type": "code",
      "source": [
        "df_csv_append.shape"
      ],
      "metadata": {
        "colab": {
          "base_uri": "https://localhost:8080/"
        },
        "id": "EhjVPTDQs7nT",
        "outputId": "a614f33c-620d-4fbd-9572-a3186e47fbe1"
      },
      "execution_count": 9,
      "outputs": [
        {
          "output_type": "execute_result",
          "data": {
            "text/plain": [
              "(2575, 14)"
            ]
          },
          "metadata": {},
          "execution_count": 9
        }
      ]
    },
    {
      "cell_type": "code",
      "source": [
        "df_csv_append.columns"
      ],
      "metadata": {
        "colab": {
          "base_uri": "https://localhost:8080/"
        },
        "id": "-DS1xub2tCsU",
        "outputId": "a8adf5a2-9bbc-42ff-8b5f-a50f074b7ff8"
      },
      "execution_count": 11,
      "outputs": [
        {
          "output_type": "execute_result",
          "data": {
            "text/plain": [
              "Index(['net_manager', 'purchase_area', 'street', 'zipcode_from', 'zipcode_to',\n",
              "       'city', 'num_connections', 'delivery_perc',\n",
              "       'perc_of_active_connections', 'type_conn_perc', 'type_of_connection',\n",
              "       'annual_consume', 'annual_consume_lowtarif_perc', 'smartmeter_perc'],\n",
              "      dtype='object')"
            ]
          },
          "metadata": {},
          "execution_count": 11
        }
      ]
    },
    {
      "cell_type": "code",
      "source": [
        "df_csv_append.info"
      ],
      "metadata": {
        "colab": {
          "base_uri": "https://localhost:8080/"
        },
        "id": "5FAp9PBjtJ6B",
        "outputId": "5445bf28-4223-43c2-938d-6a17dd020647"
      },
      "execution_count": 12,
      "outputs": [
        {
          "output_type": "execute_result",
          "data": {
            "text/plain": [
              "<bound method DataFrame.info of                   net_manager                          purchase_area  \\\n",
              "0     Cogas Infra & Beheer BV  Netbeheerder Centraal Overijssel B.V.   \n",
              "1     Cogas Infra & Beheer BV  Netbeheerder Centraal Overijssel B.V.   \n",
              "2     Cogas Infra & Beheer BV  Netbeheerder Centraal Overijssel B.V.   \n",
              "3     Cogas Infra & Beheer BV  Netbeheerder Centraal Overijssel B.V.   \n",
              "4     Cogas Infra & Beheer BV  Netbeheerder Centraal Overijssel B.V.   \n",
              "...                       ...                                    ...   \n",
              "2570  Cogas Infra & Beheer BV  Netbeheerder Centraal Overijssel B.V.   \n",
              "2571  Cogas Infra & Beheer BV  Netbeheerder Centraal Overijssel B.V.   \n",
              "2572  Cogas Infra & Beheer BV  Netbeheerder Centraal Overijssel B.V.   \n",
              "2573  Cogas Infra & Beheer BV  Netbeheerder Centraal Overijssel B.V.   \n",
              "2574  Cogas Infra & Beheer BV  Netbeheerder Centraal Overijssel B.V.   \n",
              "\n",
              "             street zipcode_from zipcode_to    city  num_connections  \\\n",
              "0       Dorpsstraat       7468CP     7471AA   ENTER               19   \n",
              "1     De Stoevelaar       7471AB     7471AB    GOOR               40   \n",
              "2     De Stoevelaar       7471AC     7471AC    GOOR               16   \n",
              "3     De Stoevelaar       7471AD     7471AE    GOOR               41   \n",
              "4        Kerkstraat       7471AG     7471AG    GOOR               14   \n",
              "...             ...          ...        ...     ...              ...   \n",
              "2570       Loofgang       7609ZR     7609ZR  ALMELO               29   \n",
              "2571          Vista       7609ZS     7609ZS  ALMELO               25   \n",
              "2572       Tuinvaas       7609ZT     7609ZT  ALMELO               18   \n",
              "2573     Wintertuin       7609ZV     7609ZW  ALMELO               45   \n",
              "2574         Aadijk       7610AB     7665EM  ALMELO                7   \n",
              "\n",
              "      delivery_perc  perc_of_active_connections  type_conn_perc  \\\n",
              "0                89                          95              89   \n",
              "1               100                          98              78   \n",
              "2               100                         100             100   \n",
              "3                93                          85              54   \n",
              "4                86                         100              36   \n",
              "...             ...                         ...             ...   \n",
              "2570             66                         100              83   \n",
              "2571             60                         100              76   \n",
              "2572             44                         100              94   \n",
              "2573             62                         100              89   \n",
              "2574            100                          43              57   \n",
              "\n",
              "     type_of_connection  annual_consume  annual_consume_lowtarif_perc  \\\n",
              "0                  1x35            3810                            89   \n",
              "1                  1x35            2637                            95   \n",
              "2                  1x35            1366                           100   \n",
              "3                  3x25            5101                            93   \n",
              "4                  1x25            4315                           100   \n",
              "...                 ...             ...                           ...   \n",
              "2570               1x35            3779                           100   \n",
              "2571               1x35            4715                            96   \n",
              "2572               1x35            3798                           100   \n",
              "2573               1x35            3455                           100   \n",
              "2574               3x25            3874                            86   \n",
              "\n",
              "      smartmeter_perc  \n",
              "0                  89  \n",
              "1                  83  \n",
              "2                  94  \n",
              "3                  78  \n",
              "4                  93  \n",
              "...               ...  \n",
              "2570               93  \n",
              "2571               88  \n",
              "2572               61  \n",
              "2573               89  \n",
              "2574               14  \n",
              "\n",
              "[2575 rows x 14 columns]>"
            ]
          },
          "metadata": {},
          "execution_count": 12
        }
      ]
    },
    {
      "cell_type": "code",
      "source": [
        "df_csv_append.describe"
      ],
      "metadata": {
        "colab": {
          "base_uri": "https://localhost:8080/"
        },
        "id": "IquidtQ8tQCJ",
        "outputId": "e04363ba-4362-4651-acee-78b14e41500b"
      },
      "execution_count": 13,
      "outputs": [
        {
          "output_type": "execute_result",
          "data": {
            "text/plain": [
              "<bound method NDFrame.describe of                   net_manager                          purchase_area  \\\n",
              "0     Cogas Infra & Beheer BV  Netbeheerder Centraal Overijssel B.V.   \n",
              "1     Cogas Infra & Beheer BV  Netbeheerder Centraal Overijssel B.V.   \n",
              "2     Cogas Infra & Beheer BV  Netbeheerder Centraal Overijssel B.V.   \n",
              "3     Cogas Infra & Beheer BV  Netbeheerder Centraal Overijssel B.V.   \n",
              "4     Cogas Infra & Beheer BV  Netbeheerder Centraal Overijssel B.V.   \n",
              "...                       ...                                    ...   \n",
              "2570  Cogas Infra & Beheer BV  Netbeheerder Centraal Overijssel B.V.   \n",
              "2571  Cogas Infra & Beheer BV  Netbeheerder Centraal Overijssel B.V.   \n",
              "2572  Cogas Infra & Beheer BV  Netbeheerder Centraal Overijssel B.V.   \n",
              "2573  Cogas Infra & Beheer BV  Netbeheerder Centraal Overijssel B.V.   \n",
              "2574  Cogas Infra & Beheer BV  Netbeheerder Centraal Overijssel B.V.   \n",
              "\n",
              "             street zipcode_from zipcode_to    city  num_connections  \\\n",
              "0       Dorpsstraat       7468CP     7471AA   ENTER               19   \n",
              "1     De Stoevelaar       7471AB     7471AB    GOOR               40   \n",
              "2     De Stoevelaar       7471AC     7471AC    GOOR               16   \n",
              "3     De Stoevelaar       7471AD     7471AE    GOOR               41   \n",
              "4        Kerkstraat       7471AG     7471AG    GOOR               14   \n",
              "...             ...          ...        ...     ...              ...   \n",
              "2570       Loofgang       7609ZR     7609ZR  ALMELO               29   \n",
              "2571          Vista       7609ZS     7609ZS  ALMELO               25   \n",
              "2572       Tuinvaas       7609ZT     7609ZT  ALMELO               18   \n",
              "2573     Wintertuin       7609ZV     7609ZW  ALMELO               45   \n",
              "2574         Aadijk       7610AB     7665EM  ALMELO                7   \n",
              "\n",
              "      delivery_perc  perc_of_active_connections  type_conn_perc  \\\n",
              "0                89                          95              89   \n",
              "1               100                          98              78   \n",
              "2               100                         100             100   \n",
              "3                93                          85              54   \n",
              "4                86                         100              36   \n",
              "...             ...                         ...             ...   \n",
              "2570             66                         100              83   \n",
              "2571             60                         100              76   \n",
              "2572             44                         100              94   \n",
              "2573             62                         100              89   \n",
              "2574            100                          43              57   \n",
              "\n",
              "     type_of_connection  annual_consume  annual_consume_lowtarif_perc  \\\n",
              "0                  1x35            3810                            89   \n",
              "1                  1x35            2637                            95   \n",
              "2                  1x35            1366                           100   \n",
              "3                  3x25            5101                            93   \n",
              "4                  1x25            4315                           100   \n",
              "...                 ...             ...                           ...   \n",
              "2570               1x35            3779                           100   \n",
              "2571               1x35            4715                            96   \n",
              "2572               1x35            3798                           100   \n",
              "2573               1x35            3455                           100   \n",
              "2574               3x25            3874                            86   \n",
              "\n",
              "      smartmeter_perc  \n",
              "0                  89  \n",
              "1                  83  \n",
              "2                  94  \n",
              "3                  78  \n",
              "4                  93  \n",
              "...               ...  \n",
              "2570               93  \n",
              "2571               88  \n",
              "2572               61  \n",
              "2573               89  \n",
              "2574               14  \n",
              "\n",
              "[2575 rows x 14 columns]>"
            ]
          },
          "metadata": {},
          "execution_count": 13
        }
      ]
    },
    {
      "cell_type": "code",
      "source": [
        "df_csv_append.apply(np.max)"
      ],
      "metadata": {
        "colab": {
          "base_uri": "https://localhost:8080/"
        },
        "id": "M97qXOt7teEx",
        "outputId": "bfa1e939-85a4-4989-e5f0-ad461f7f4eae"
      },
      "execution_count": 14,
      "outputs": [
        {
          "output_type": "execute_result",
          "data": {
            "text/plain": [
              "net_manager                                   Cogas Infra & Beheer BV\n",
              "purchase_area                   Netbeheerder Centraal Overijssel B.V.\n",
              "street                                           van den Vondelstraat\n",
              "zipcode_from                                                   7610AB\n",
              "zipcode_to                                                     7665EM\n",
              "city                                                        OLDENZAAL\n",
              "num_connections                                                   127\n",
              "delivery_perc                                                     100\n",
              "perc_of_active_connections                                        100\n",
              "type_conn_perc                                                    100\n",
              "type_of_connection                                               3x80\n",
              "annual_consume                                                  53559\n",
              "annual_consume_lowtarif_perc                                      100\n",
              "smartmeter_perc                                                   100\n",
              "dtype: object"
            ]
          },
          "metadata": {},
          "execution_count": 14
        }
      ]
    },
    {
      "cell_type": "code",
      "source": [
        "sns.boxplot(x=\"city\", y=\"annual_consume\", data=df_csv_append, showfliers = False);"
      ],
      "metadata": {
        "colab": {
          "base_uri": "https://localhost:8080/",
          "height": 449
        },
        "id": "hYe4gOhat80t",
        "outputId": "325c95e7-3117-409e-aaa9-c518b57f0b28"
      },
      "execution_count": 21,
      "outputs": [
        {
          "output_type": "display_data",
          "data": {
            "text/plain": [
              "<Figure size 640x480 with 1 Axes>"
            ],
            "image/png": "[encoded data removed]"
          },
          "metadata": {}
        }
      ]
    }
  ]
}
