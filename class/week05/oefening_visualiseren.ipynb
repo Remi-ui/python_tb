{
  "cells": [
    {
      "cell_type": "markdown",
      "source": [
        "# Oefening visualiseren met Python"
      ],
      "metadata": {
        "id": "s9AkAt1x8eqz"
      },
      "id": "s9AkAt1x8eqz"
    },
    {
      "cell_type": "markdown",
      "source": [
        "## Ophalen van het dataset van het internet\n",
        "\n",
        "---\n",
        "\n",
        "\n",
        "\n"
      ],
      "metadata": {
        "id": "4iiUugd7e6E0"
      },
      "id": "4iiUugd7e6E0"
    },
    {
      "cell_type": "code",
      "execution_count": 1,
      "outputs": [],
      "source": [
        "import pandas as pd\n",
        "df = pd.read_csv('https://files.consumerfinance.gov/ccdb/complaints.csv.zip')"
      ],
      "metadata": {
        "ExecuteTime": {
          "end_time": "2023-11-30T13:12:22.801238Z",
          "start_time": "2023-11-30T13:11:01.632696Z"
        },
        "id": "f7cb5ca21d68fcad"
      },
      "id": "f7cb5ca21d68fcad"
    },
    {
      "cell_type": "markdown",
      "source": [
        "###Hoe groot is dit dataset?"
      ],
      "metadata": {
        "id": "I0G4rn_VfIh9"
      },
      "id": "I0G4rn_VfIh9"
    },
    {
      "cell_type": "code",
      "execution_count": 2,
      "outputs": [
        {
          "output_type": "stream",
          "name": "stdout",
          "text": [
            "(7050951, 18)\n",
            "(2339520, 18)\n"
          ]
        }
      ],
      "source": [
        "print(df.shape)\n",
        "df_nonan = df[df['Consumer complaint narrative'].notna() & df['Product'].notna()]\n",
        "print(df_nonan.shape)"
      ],
      "metadata": {
        "ExecuteTime": {
          "end_time": "2023-11-30T13:13:31.842244Z",
          "start_time": "2023-11-30T13:13:31.250899Z"
        },
        "id": "42ec02531c0b8fbf",
        "outputId": "57dd2731-235b-4af7-a687-7ef5bc58e110",
        "colab": {
          "base_uri": "https://localhost:8080/"
        }
      },
      "id": "42ec02531c0b8fbf"
    },
    {
      "cell_type": "markdown",
      "source": [
        "## We nemen een deel van het dataset om verder mee te werken"
      ],
      "metadata": {
        "id": "vs73iZ7Uf0Nu"
      },
      "id": "vs73iZ7Uf0Nu"
    },
    {
      "cell_type": "markdown",
      "source": [
        "De dataset is te groot om gemakkelijk mee te werken, daarom doen we de opdracht maar met een deel (sample)."
      ],
      "metadata": {
        "id": "Wqq4zQJJww9q"
      },
      "id": "Wqq4zQJJww9q"
    },
    {
      "cell_type": "code",
      "execution_count": 3,
      "outputs": [
        {
          "output_type": "stream",
          "name": "stdout",
          "text": [
            "(100000, 2)\n"
          ]
        }
      ],
      "source": [
        "sample=df_nonan.sample(n=100000, ignore_index=True)\n",
        "sample=sample[[\"Product\",\"Consumer complaint narrative\"]]\n",
        "print(sample.shape)"
      ],
      "metadata": {
        "ExecuteTime": {
          "end_time": "2023-11-30T13:31:52.838627Z",
          "start_time": "2023-11-30T13:31:52.595841Z"
        },
        "id": "de0732a3456da473",
        "colab": {
          "base_uri": "https://localhost:8080/"
        },
        "outputId": "a88a4d43-9237-4ad4-b0a5-24a393799ef9"
      },
      "id": "de0732a3456da473"
    },
    {
      "cell_type": "code",
      "source": [
        "sample.head()"
      ],
      "metadata": {
        "colab": {
          "base_uri": "https://localhost:8080/",
          "height": 206
        },
        "id": "Z-_KzdAQ17lj",
        "outputId": "73691548-0b9a-4128-8e97-954750125b1a"
      },
      "id": "Z-_KzdAQ17lj",
      "execution_count": 4,
      "outputs": [
        {
          "output_type": "execute_result",
          "data": {
            "text/plain": [
              "                                             Product  \\\n",
              "0  Credit reporting or other personal consumer re...   \n",
              "1                                    Debt collection   \n",
              "2  Credit reporting or other personal consumer re...   \n",
              "3                        Checking or savings account   \n",
              "4                                   Credit reporting   \n",
              "\n",
              "                        Consumer complaint narrative  \n",
              "0  \" After reviewing my consumer report, I notice...  \n",
              "1  XXXX XXXX has claimed I owe them for a fictiti...  \n",
              "2  I checked my credit report and found that some...  \n",
              "3  XX/XX/XXXX XXXX tried to withdraw {$800.00} fr...  \n",
              "4  The Collection Agencies are Inaccurately Repor...  "
            ],
            "text/html": [
              "\n",
              "  <div id=\"df-049253de-ec92-4a43-ac68-d67827985ecc\" class=\"colab-df-container\">\n",
              "    <div>\n",
              "<style scoped>\n",
              "    .dataframe tbody tr th:only-of-type {\n",
              "        vertical-align: middle;\n",
              "    }\n",
              "\n",
              "    .dataframe tbody tr th {\n",
              "        vertical-align: top;\n",
              "    }\n",
              "\n",
              "    .dataframe thead th {\n",
              "        text-align: right;\n",
              "    }\n",
              "</style>\n",
              "<table border=\"1\" class=\"dataframe\">\n",
              "  <thead>\n",
              "    <tr style=\"text-align: right;\">\n",
              "      <th></th>\n",
              "      <th>Product</th>\n",
              "      <th>Consumer complaint narrative</th>\n",
              "    </tr>\n",
              "  </thead>\n",
              "  <tbody>\n",
              "    <tr>\n",
              "      <th>0</th>\n",
              "      <td>Credit reporting or other personal consumer re...</td>\n",
              "      <td>\" After reviewing my consumer report, I notice...</td>\n",
              "    </tr>\n",
              "    <tr>\n",
              "      <th>1</th>\n",
              "      <td>Debt collection</td>\n",
              "      <td>XXXX XXXX has claimed I owe them for a fictiti...</td>\n",
              "    </tr>\n",
              "    <tr>\n",
              "      <th>2</th>\n",
              "      <td>Credit reporting or other personal consumer re...</td>\n",
              "      <td>I checked my credit report and found that some...</td>\n",
              "    </tr>\n",
              "    <tr>\n",
              "      <th>3</th>\n",
              "      <td>Checking or savings account</td>\n",
              "      <td>XX/XX/XXXX XXXX tried to withdraw {$800.00} fr...</td>\n",
              "    </tr>\n",
              "    <tr>\n",
              "      <th>4</th>\n",
              "      <td>Credit reporting</td>\n",
              "      <td>The Collection Agencies are Inaccurately Repor...</td>\n",
              "    </tr>\n",
              "  </tbody>\n",
              "</table>\n",
              "</div>\n",
              "    <div class=\"colab-df-buttons\">\n",
              "\n",
              "  <div class=\"colab-df-container\">\n",
              "    <button class=\"colab-df-convert\" onclick=\"convertToInteractive('df-049253de-ec92-4a43-ac68-d67827985ecc')\"\n",
              "            title=\"Convert this dataframe to an interactive table.\"\n",
              "            style=\"display:none;\">\n",
              "\n",
              "  <svg xmlns=\"http://www.w3.org/2000/svg\" height=\"24px\" viewBox=\"0 -960 960 960\">\n",
              "    <path d=\"M120-120v-720h720v720H120Zm60-500h600v-160H180v160Zm220 220h160v-160H400v160Zm0 220h160v-160H400v160ZM180-400h160v-160H180v160Zm440 0h160v-160H620v160ZM180-180h160v-160H180v160Zm440 0h160v-160H620v160Z\"/>\n",
              "  </svg>\n",
              "    </button>\n",
              "\n",
              "  <style>\n",
              "    .colab-df-container {\n",
              "      display:flex;\n",
              "      gap: 12px;\n",
              "    }\n",
              "\n",
              "    .colab-df-convert {\n",
              "      background-color: #E8F0FE;\n",
              "      border: none;\n",
              "      border-radius: 50%;\n",
              "      cursor: pointer;\n",
              "      display: none;\n",
              "      fill: #1967D2;\n",
              "      height: 32px;\n",
              "      padding: 0 0 0 0;\n",
              "      width: 32px;\n",
              "    }\n",
              "\n",
              "    .colab-df-convert:hover {\n",
              "      background-color: #E2EBFA;\n",
              "      box-shadow: 0px 1px 2px rgba(60, 64, 67, 0.3), 0px 1px 3px 1px rgba(60, 64, 67, 0.15);\n",
              "      fill: #174EA6;\n",
              "    }\n",
              "\n",
              "    .colab-df-buttons div {\n",
              "      margin-bottom: 4px;\n",
              "    }\n",
              "\n",
              "    [theme=dark] .colab-df-convert {\n",
              "      background-color: #3B4455;\n",
              "      fill: #D2E3FC;\n",
              "    }\n",
              "\n",
              "    [theme=dark] .colab-df-convert:hover {\n",
              "      background-color: #434B5C;\n",
              "      box-shadow: 0px 1px 3px 1px rgba(0, 0, 0, 0.15);\n",
              "      filter: drop-shadow(0px 1px 2px rgba(0, 0, 0, 0.3));\n",
              "      fill: #FFFFFF;\n",
              "    }\n",
              "  </style>\n",
              "\n",
              "    <script>\n",
              "      const buttonEl =\n",
              "        document.querySelector('#df-049253de-ec92-4a43-ac68-d67827985ecc button.colab-df-convert');\n",
              "      buttonEl.style.display =\n",
              "        google.colab.kernel.accessAllowed ? 'block' : 'none';\n",
              "\n",
              "      async function convertToInteractive(key) {\n",
              "        const element = document.querySelector('#df-049253de-ec92-4a43-ac68-d67827985ecc');\n",
              "        const dataTable =\n",
              "          await google.colab.kernel.invokeFunction('convertToInteractive',\n",
              "                                                    [key], {});\n",
              "        if (!dataTable) return;\n",
              "\n",
              "        const docLinkHtml = 'Like what you see? Visit the ' +\n",
              "          '<a target=\"_blank\" href=https://colab.research.google.com/notebooks/data_table.ipynb>data table notebook</a>'\n",
              "          + ' to learn more about interactive tables.';\n",
              "        element.innerHTML = '';\n",
              "        dataTable['output_type'] = 'display_data';\n",
              "        await google.colab.output.renderOutput(dataTable, element);\n",
              "        const docLink = document.createElement('div');\n",
              "        docLink.innerHTML = docLinkHtml;\n",
              "        element.appendChild(docLink);\n",
              "      }\n",
              "    </script>\n",
              "  </div>\n",
              "\n",
              "\n",
              "<div id=\"df-65e97e07-7d39-4bd4-80c4-da85d48dd377\">\n",
              "  <button class=\"colab-df-quickchart\" onclick=\"quickchart('df-65e97e07-7d39-4bd4-80c4-da85d48dd377')\"\n",
              "            title=\"Suggest charts\"\n",
              "            style=\"display:none;\">\n",
              "\n",
              "<svg xmlns=\"http://www.w3.org/2000/svg\" height=\"24px\"viewBox=\"0 0 24 24\"\n",
              "     width=\"24px\">\n",
              "    <g>\n",
              "        <path d=\"M19 3H5c-1.1 0-2 .9-2 2v14c0 1.1.9 2 2 2h14c1.1 0 2-.9 2-2V5c0-1.1-.9-2-2-2zM9 17H7v-7h2v7zm4 0h-2V7h2v10zm4 0h-2v-4h2v4z\"/>\n",
              "    </g>\n",
              "</svg>\n",
              "  </button>\n",
              "\n",
              "<style>\n",
              "  .colab-df-quickchart {\n",
              "      --bg-color: #E8F0FE;\n",
              "      --fill-color: #1967D2;\n",
              "      --hover-bg-color: #E2EBFA;\n",
              "      --hover-fill-color: #174EA6;\n",
              "      --disabled-fill-color: #AAA;\n",
              "      --disabled-bg-color: #DDD;\n",
              "  }\n",
              "\n",
              "  [theme=dark] .colab-df-quickchart {\n",
              "      --bg-color: #3B4455;\n",
              "      --fill-color: #D2E3FC;\n",
              "      --hover-bg-color: #434B5C;\n",
              "      --hover-fill-color: #FFFFFF;\n",
              "      --disabled-bg-color: #3B4455;\n",
              "      --disabled-fill-color: #666;\n",
              "  }\n",
              "\n",
              "  .colab-df-quickchart {\n",
              "    background-color: var(--bg-color);\n",
              "    border: none;\n",
              "    border-radius: 50%;\n",
              "    cursor: pointer;\n",
              "    display: none;\n",
              "    fill: var(--fill-color);\n",
              "    height: 32px;\n",
              "    padding: 0;\n",
              "    width: 32px;\n",
              "  }\n",
              "\n",
              "  .colab-df-quickchart:hover {\n",
              "    background-color: var(--hover-bg-color);\n",
              "    box-shadow: 0 1px 2px rgba(60, 64, 67, 0.3), 0 1px 3px 1px rgba(60, 64, 67, 0.15);\n",
              "    fill: var(--button-hover-fill-color);\n",
              "  }\n",
              "\n",
              "  .colab-df-quickchart-complete:disabled,\n",
              "  .colab-df-quickchart-complete:disabled:hover {\n",
              "    background-color: var(--disabled-bg-color);\n",
              "    fill: var(--disabled-fill-color);\n",
              "    box-shadow: none;\n",
              "  }\n",
              "\n",
              "  .colab-df-spinner {\n",
              "    border: 2px solid var(--fill-color);\n",
              "    border-color: transparent;\n",
              "    border-bottom-color: var(--fill-color);\n",
              "    animation:\n",
              "      spin 1s steps(1) infinite;\n",
              "  }\n",
              "\n",
              "  @keyframes spin {\n",
              "    0% {\n",
              "      border-color: transparent;\n",
              "      border-bottom-color: var(--fill-color);\n",
              "      border-left-color: var(--fill-color);\n",
              "    }\n",
              "    20% {\n",
              "      border-color: transparent;\n",
              "      border-left-color: var(--fill-color);\n",
              "      border-top-color: var(--fill-color);\n",
              "    }\n",
              "    30% {\n",
              "      border-color: transparent;\n",
              "      border-left-color: var(--fill-color);\n",
              "      border-top-color: var(--fill-color);\n",
              "      border-right-color: var(--fill-color);\n",
              "    }\n",
              "    40% {\n",
              "      border-color: transparent;\n",
              "      border-right-color: var(--fill-color);\n",
              "      border-top-color: var(--fill-color);\n",
              "    }\n",
              "    60% {\n",
              "      border-color: transparent;\n",
              "      border-right-color: var(--fill-color);\n",
              "    }\n",
              "    80% {\n",
              "      border-color: transparent;\n",
              "      border-right-color: var(--fill-color);\n",
              "      border-bottom-color: var(--fill-color);\n",
              "    }\n",
              "    90% {\n",
              "      border-color: transparent;\n",
              "      border-bottom-color: var(--fill-color);\n",
              "    }\n",
              "  }\n",
              "</style>\n",
              "\n",
              "  <script>\n",
              "    async function quickchart(key) {\n",
              "      const quickchartButtonEl =\n",
              "        document.querySelector('#' + key + ' button');\n",
              "      quickchartButtonEl.disabled = true;  // To prevent multiple clicks.\n",
              "      quickchartButtonEl.classList.add('colab-df-spinner');\n",
              "      try {\n",
              "        const charts = await google.colab.kernel.invokeFunction(\n",
              "            'suggestCharts', [key], {});\n",
              "      } catch (error) {\n",
              "        console.error('Error during call to suggestCharts:', error);\n",
              "      }\n",
              "      quickchartButtonEl.classList.remove('colab-df-spinner');\n",
              "      quickchartButtonEl.classList.add('colab-df-quickchart-complete');\n",
              "    }\n",
              "    (() => {\n",
              "      let quickchartButtonEl =\n",
              "        document.querySelector('#df-65e97e07-7d39-4bd4-80c4-da85d48dd377 button');\n",
              "      quickchartButtonEl.style.display =\n",
              "        google.colab.kernel.accessAllowed ? 'block' : 'none';\n",
              "    })();\n",
              "  </script>\n",
              "</div>\n",
              "\n",
              "    </div>\n",
              "  </div>\n"
            ],
            "application/vnd.google.colaboratory.intrinsic+json": {
              "type": "dataframe",
              "variable_name": "sample",
              "summary": "{\n  \"name\": \"sample\",\n  \"rows\": 100000,\n  \"fields\": [\n    {\n      \"column\": \"Product\",\n      \"properties\": {\n        \"dtype\": \"category\",\n        \"num_unique_values\": 20,\n        \"samples\": [\n          \"Credit reporting or other personal consumer reports\",\n          \"Money transfers\",\n          \"Debt or credit management\"\n        ],\n        \"semantic_type\": \"\",\n        \"description\": \"\"\n      }\n    },\n    {\n      \"column\": \"Consumer complaint narrative\",\n      \"properties\": {\n        \"dtype\": \"string\",\n        \"num_unique_values\": 86718,\n        \"samples\": [\n          \"I am writing to update my credit report with the correct information. I am a victim of identity theft and did not make the charges on my credit report. to protect my account I included the dates, amounts an actions listed in the file. all creditors listed are responsible for updating my file. thank you.\",\n          \"In accordance with the Fair Credit Reporting act. The List of accounts below has violated my federally protected consumer rights to privacy and confidentiality under 15 USC 1681. \\n\\nXXXX XXXX XXXX XXXX, has violated my rights. \\n\\n15 U.S.C 1681 section 602 A. States I have the right to privacy.\\n\\n15 U.S.C 1681 Section 604 A Section 2 : It also states a consumer reporting agency can not furnish an account without my written instructions 15 U.S.C 1681c. ( a ) ( 5 ) Section States : no consumer reporting agency may make any consumer report containing any of the following items of information Any other adverse item of information, other than records of convictions of crimes which antedates the report by more than seven years.\\n\\n15 U.S.C. 1681s-2 ( A ) ( 1 ) A person shall not furnish any information relating to a consumer to any consumer reporting agency if the person knows or has reasonable cause to believe that the information is inaccurate.\",\n          \"My HELOC is currently owned and serviced by Real Time Resolutions. They issued temporary payment resolution TPA ( attached ). I have asked for clarification on the issues listed, which RTR has failed to provide. \\n\\n1. A detailed ledger breakdown of the debt owed. They allege the debt is {$61000.00}. I have records on the debt showing that {$52000.00} is owed.\\n\\n2. A description of the {$7100.00} down payment application. There is no designation of where those funds will be applied. \\n3. After the TPA, there is no description of the future interest rate, terms or monthly payments. There is no long term resolution listed, only a reference to the original mortgage note. \\n4. In the accounting ledger supplied by RTR, the balance was {$52000.00} as of XXXX. Also, both the settlement offer and the accounting ledger refer back to the original XXXXXXXX XXXX note for interest rate and payment. The current interest rate listed varies from .06625 and .08125 ... the periodic rate that is applicable per the XXXX XXXX note is .0312 and actually declined to XXXX for many years due to lower prime rates ( published in the XXXX XXXX XXXX ). There has been no explanation for the serious discrepancies.\"\n        ],\n        \"semantic_type\": \"\",\n        \"description\": \"\"\n      }\n    }\n  ]\n}"
            }
          },
          "metadata": {},
          "execution_count": 4
        }
      ]
    },
    {
      "cell_type": "code",
      "execution_count": 5,
      "outputs": [
        {
          "output_type": "execute_result",
          "data": {
            "text/plain": [
              "Product\n",
              "Credit reporting, credit repair services, or other personal consumer reports    34456\n",
              "Credit reporting or other personal consumer reports                             26545\n",
              "Debt collection                                                                 12353\n",
              "Mortgage                                                                         5339\n",
              "Credit card or prepaid card                                                      4745\n",
              "Checking or savings account                                                      4733\n",
              "Credit card                                                                      2618\n",
              "Student loan                                                                     2044\n",
              "Money transfer, virtual currency, or money service                               1960\n",
              "Vehicle loan or lease                                                            1422\n",
              "Credit reporting                                                                 1331\n",
              "Payday loan, title loan, or personal loan                                         699\n",
              "Bank account or service                                                           672\n",
              "Consumer Loan                                                                     405\n",
              "Prepaid card                                                                      233\n",
              "Payday loan, title loan, personal loan, or advance loan                           228\n",
              "Payday loan                                                                        82\n",
              "Money transfers                                                                    68\n",
              "Debt or credit management                                                          52\n",
              "Other financial service                                                            15\n",
              "Name: count, dtype: int64"
            ],
            "text/html": [
              "<div>\n",
              "<style scoped>\n",
              "    .dataframe tbody tr th:only-of-type {\n",
              "        vertical-align: middle;\n",
              "    }\n",
              "\n",
              "    .dataframe tbody tr th {\n",
              "        vertical-align: top;\n",
              "    }\n",
              "\n",
              "    .dataframe thead th {\n",
              "        text-align: right;\n",
              "    }\n",
              "</style>\n",
              "<table border=\"1\" class=\"dataframe\">\n",
              "  <thead>\n",
              "    <tr style=\"text-align: right;\">\n",
              "      <th></th>\n",
              "      <th>count</th>\n",
              "    </tr>\n",
              "    <tr>\n",
              "      <th>Product</th>\n",
              "      <th></th>\n",
              "    </tr>\n",
              "  </thead>\n",
              "  <tbody>\n",
              "    <tr>\n",
              "      <th>Credit reporting, credit repair services, or other personal consumer reports</th>\n",
              "      <td>34456</td>\n",
              "    </tr>\n",
              "    <tr>\n",
              "      <th>Credit reporting or other personal consumer reports</th>\n",
              "      <td>26545</td>\n",
              "    </tr>\n",
              "    <tr>\n",
              "      <th>Debt collection</th>\n",
              "      <td>12353</td>\n",
              "    </tr>\n",
              "    <tr>\n",
              "      <th>Mortgage</th>\n",
              "      <td>5339</td>\n",
              "    </tr>\n",
              "    <tr>\n",
              "      <th>Credit card or prepaid card</th>\n",
              "      <td>4745</td>\n",
              "    </tr>\n",
              "    <tr>\n",
              "      <th>Checking or savings account</th>\n",
              "      <td>4733</td>\n",
              "    </tr>\n",
              "    <tr>\n",
              "      <th>Credit card</th>\n",
              "      <td>2618</td>\n",
              "    </tr>\n",
              "    <tr>\n",
              "      <th>Student loan</th>\n",
              "      <td>2044</td>\n",
              "    </tr>\n",
              "    <tr>\n",
              "      <th>Money transfer, virtual currency, or money service</th>\n",
              "      <td>1960</td>\n",
              "    </tr>\n",
              "    <tr>\n",
              "      <th>Vehicle loan or lease</th>\n",
              "      <td>1422</td>\n",
              "    </tr>\n",
              "    <tr>\n",
              "      <th>Credit reporting</th>\n",
              "      <td>1331</td>\n",
              "    </tr>\n",
              "    <tr>\n",
              "      <th>Payday loan, title loan, or personal loan</th>\n",
              "      <td>699</td>\n",
              "    </tr>\n",
              "    <tr>\n",
              "      <th>Bank account or service</th>\n",
              "      <td>672</td>\n",
              "    </tr>\n",
              "    <tr>\n",
              "      <th>Consumer Loan</th>\n",
              "      <td>405</td>\n",
              "    </tr>\n",
              "    <tr>\n",
              "      <th>Prepaid card</th>\n",
              "      <td>233</td>\n",
              "    </tr>\n",
              "    <tr>\n",
              "      <th>Payday loan, title loan, personal loan, or advance loan</th>\n",
              "      <td>228</td>\n",
              "    </tr>\n",
              "    <tr>\n",
              "      <th>Payday loan</th>\n",
              "      <td>82</td>\n",
              "    </tr>\n",
              "    <tr>\n",
              "      <th>Money transfers</th>\n",
              "      <td>68</td>\n",
              "    </tr>\n",
              "    <tr>\n",
              "      <th>Debt or credit management</th>\n",
              "      <td>52</td>\n",
              "    </tr>\n",
              "    <tr>\n",
              "      <th>Other financial service</th>\n",
              "      <td>15</td>\n",
              "    </tr>\n",
              "  </tbody>\n",
              "</table>\n",
              "</div><br><label><b>dtype:</b> int64</label>"
            ]
          },
          "metadata": {},
          "execution_count": 5
        }
      ],
      "source": [
        "sample.Product.value_counts()"
      ],
      "metadata": {
        "ExecuteTime": {
          "end_time": "2023-11-30T13:31:54.913182Z",
          "start_time": "2023-11-30T13:31:54.900050Z"
        },
        "id": "cfa6ad35f1b5ba3d",
        "outputId": "64a75a13-b9af-4108-e81a-479f2a9497e6",
        "colab": {
          "base_uri": "https://localhost:8080/",
          "height": 743
        }
      },
      "id": "cfa6ad35f1b5ba3d"
    },
    {
      "cell_type": "markdown",
      "source": [
        "### Labels aanpassen"
      ],
      "metadata": {
        "collapsed": false,
        "id": "bf51fd853f09f292"
      },
      "id": "bf51fd853f09f292"
    },
    {
      "cell_type": "code",
      "execution_count": 6,
      "outputs": [],
      "source": [
        "sample.loc[sample['Product'] == 'Credit reporting', 'Product'] = 'Credit reporting, credit repair services, or other personal consumer reports'\n",
        "sample.loc[sample['Product'] == 'Credit reporting or other personal consumer reports', 'Product'] = 'Credit reporting, credit repair services, or other personal consumer reports'\n",
        "sample.loc[sample['Product'] == 'Credit card', 'Product'] = 'Credit card or prepaid card'\n",
        "sample.loc[sample['Product'] == 'Prepaid card', 'Product'] = 'Credit card or prepaid card'\n",
        "sample.loc[sample['Product'] == 'Payday loan', 'Product'] = 'Payday loan, title loan, or personal loan'\n",
        "sample.loc[sample['Product'] == 'Vehicle loan or lease', 'Product'] = 'Payday loan, title loan, or personal loan'\n",
        "sample.loc[sample['Product'] == 'Virtual currency', 'Product'] = 'Money transfer, virtual currency, or money service'\n",
        "sample = sample[sample.Product != 'Other financial service']"
      ],
      "metadata": {
        "ExecuteTime": {
          "end_time": "2023-11-30T13:31:57.133082Z",
          "start_time": "2023-11-30T13:31:57.092349Z"
        },
        "id": "13ac98cd9ece165c"
      },
      "id": "13ac98cd9ece165c"
    },
    {
      "cell_type": "code",
      "execution_count": 7,
      "outputs": [
        {
          "output_type": "execute_result",
          "data": {
            "text/plain": [
              "Product\n",
              "Credit reporting, credit repair services, or other personal consumer reports    62332\n",
              "Debt collection                                                                 12353\n",
              "Credit card or prepaid card                                                      7596\n",
              "Mortgage                                                                         5339\n",
              "Checking or savings account                                                      4733\n",
              "Payday loan, title loan, or personal loan                                        2203\n",
              "Student loan                                                                     2044\n",
              "Money transfer, virtual currency, or money service                               1960\n",
              "Bank account or service                                                           672\n",
              "Consumer Loan                                                                     405\n",
              "Payday loan, title loan, personal loan, or advance loan                           228\n",
              "Money transfers                                                                    68\n",
              "Debt or credit management                                                          52\n",
              "Name: count, dtype: int64"
            ],
            "text/html": [
              "<div>\n",
              "<style scoped>\n",
              "    .dataframe tbody tr th:only-of-type {\n",
              "        vertical-align: middle;\n",
              "    }\n",
              "\n",
              "    .dataframe tbody tr th {\n",
              "        vertical-align: top;\n",
              "    }\n",
              "\n",
              "    .dataframe thead th {\n",
              "        text-align: right;\n",
              "    }\n",
              "</style>\n",
              "<table border=\"1\" class=\"dataframe\">\n",
              "  <thead>\n",
              "    <tr style=\"text-align: right;\">\n",
              "      <th></th>\n",
              "      <th>count</th>\n",
              "    </tr>\n",
              "    <tr>\n",
              "      <th>Product</th>\n",
              "      <th></th>\n",
              "    </tr>\n",
              "  </thead>\n",
              "  <tbody>\n",
              "    <tr>\n",
              "      <th>Credit reporting, credit repair services, or other personal consumer reports</th>\n",
              "      <td>62332</td>\n",
              "    </tr>\n",
              "    <tr>\n",
              "      <th>Debt collection</th>\n",
              "      <td>12353</td>\n",
              "    </tr>\n",
              "    <tr>\n",
              "      <th>Credit card or prepaid card</th>\n",
              "      <td>7596</td>\n",
              "    </tr>\n",
              "    <tr>\n",
              "      <th>Mortgage</th>\n",
              "      <td>5339</td>\n",
              "    </tr>\n",
              "    <tr>\n",
              "      <th>Checking or savings account</th>\n",
              "      <td>4733</td>\n",
              "    </tr>\n",
              "    <tr>\n",
              "      <th>Payday loan, title loan, or personal loan</th>\n",
              "      <td>2203</td>\n",
              "    </tr>\n",
              "    <tr>\n",
              "      <th>Student loan</th>\n",
              "      <td>2044</td>\n",
              "    </tr>\n",
              "    <tr>\n",
              "      <th>Money transfer, virtual currency, or money service</th>\n",
              "      <td>1960</td>\n",
              "    </tr>\n",
              "    <tr>\n",
              "      <th>Bank account or service</th>\n",
              "      <td>672</td>\n",
              "    </tr>\n",
              "    <tr>\n",
              "      <th>Consumer Loan</th>\n",
              "      <td>405</td>\n",
              "    </tr>\n",
              "    <tr>\n",
              "      <th>Payday loan, title loan, personal loan, or advance loan</th>\n",
              "      <td>228</td>\n",
              "    </tr>\n",
              "    <tr>\n",
              "      <th>Money transfers</th>\n",
              "      <td>68</td>\n",
              "    </tr>\n",
              "    <tr>\n",
              "      <th>Debt or credit management</th>\n",
              "      <td>52</td>\n",
              "    </tr>\n",
              "  </tbody>\n",
              "</table>\n",
              "</div><br><label><b>dtype:</b> int64</label>"
            ]
          },
          "metadata": {},
          "execution_count": 7
        }
      ],
      "source": [
        "sample.Product.value_counts()"
      ],
      "metadata": {
        "ExecuteTime": {
          "end_time": "2023-11-30T13:32:00.314554Z",
          "start_time": "2023-11-30T13:32:00.310350Z"
        },
        "id": "a7cd27063dc2a046",
        "outputId": "acaedf7f-e2bc-4e68-b545-ff705bcba721",
        "colab": {
          "base_uri": "https://localhost:8080/",
          "height": 523
        }
      },
      "id": "a7cd27063dc2a046"
    },
    {
      "cell_type": "markdown",
      "source": [
        "## Opdracht 1: Visualiseer de data"
      ],
      "metadata": {
        "id": "c31FL4smhtax"
      },
      "id": "c31FL4smhtax"
    },
    {
      "cell_type": "markdown",
      "source": [
        "Maak de data inzichtelijk middels 5 visualisaties. Wees creatief! Je kunt jezelf hierbij vragen stellen als:\n",
        "\n",
        "\n",
        "*   Hoe is de data verdeeld?\n",
        "*   Hoe verschillen de verschillende soorten klachten van elkaar?\n",
        "*   Wat voor overeenkomsten zijn er tussen de klachten?\n",
        "*   Wat voor woorden gebruiken mensen veelal?\n",
        "\n",
        "\n",
        "\n",
        "\n"
      ],
      "metadata": {
        "id": "UNJutBE0j9r3"
      },
      "id": "UNJutBE0j9r3"
    },
    {
      "cell_type": "markdown",
      "source": [
        "Voorbeelden van visualisaties zijn hier te vinden:\n",
        "\n",
        "\n",
        "*   https://medium.com/plotly/nlp-visualisations-for-clear-immediate-insights-into-text-data-and-outputs-9ebfab168d5b\n",
        "*   https://www.geeksforgeeks.org/visualizing-text-data-techniques-and-applications/\n",
        "*   https://medium.com/@nimritakoul01/text-visualization-using-scattertext-python-library-129858131a36\n",
        "*   https://towardsdatascience.com/advanced-visualisations-for-text-data-analysis-fc8add8796e2\n",
        "\n",
        "Andere bronnen die kunnen helpen:\n",
        "*   https://www.geeksforgeeks.org/top-python-libraries-for-data-visualization/\n",
        "*   https://www.w3schools.com/python/numpy/numpy_random_seaborn.asp\n",
        "*   https://www.w3schools.com/python/matplotlib_pyplot.asp\n",
        "\n"
      ],
      "metadata": {
        "id": "1WnVixOV4taP"
      },
      "id": "1WnVixOV4taP"
    },
    {
      "cell_type": "markdown",
      "source": [
        "### Visualisatie 1"
      ],
      "metadata": {
        "id": "OY-Mwmx13-HY"
      },
      "id": "OY-Mwmx13-HY"
    },
    {
      "cell_type": "code",
      "source": [
        "# Jouw code!"
      ],
      "metadata": {
        "id": "eLgRVMDUh0uC"
      },
      "id": "eLgRVMDUh0uC",
      "execution_count": null,
      "outputs": []
    },
    {
      "cell_type": "markdown",
      "source": [
        "### Visualisatie 2"
      ],
      "metadata": {
        "id": "jFPn0WW04DN6"
      },
      "id": "jFPn0WW04DN6"
    },
    {
      "cell_type": "code",
      "source": [
        "# Jouw code!"
      ],
      "metadata": {
        "id": "GSobmrQX4HFs"
      },
      "execution_count": null,
      "outputs": [],
      "id": "GSobmrQX4HFs"
    },
    {
      "cell_type": "markdown",
      "source": [
        "### Visualisatie 3"
      ],
      "metadata": {
        "id": "6BODVkGj4FfN"
      },
      "id": "6BODVkGj4FfN"
    },
    {
      "cell_type": "code",
      "source": [
        "# Jouw code!"
      ],
      "metadata": {
        "id": "ebo3cDGe4HXI"
      },
      "execution_count": null,
      "outputs": [],
      "id": "ebo3cDGe4HXI"
    },
    {
      "cell_type": "markdown",
      "source": [
        "### Visualisatie 4"
      ],
      "metadata": {
        "id": "w_xGNnQX4F-9"
      },
      "id": "w_xGNnQX4F-9"
    },
    {
      "cell_type": "code",
      "source": [
        "# Jouw code!"
      ],
      "metadata": {
        "id": "YtgpdFU44HyS"
      },
      "execution_count": null,
      "outputs": [],
      "id": "YtgpdFU44HyS"
    },
    {
      "cell_type": "markdown",
      "source": [
        "### Visualisatie 5"
      ],
      "metadata": {
        "id": "vsEAXaHA4GCJ"
      },
      "id": "vsEAXaHA4GCJ"
    },
    {
      "cell_type": "code",
      "source": [
        "# Jouw code!"
      ],
      "metadata": {
        "id": "iss-tK_O4H_Z"
      },
      "execution_count": null,
      "outputs": [],
      "id": "iss-tK_O4H_Z"
    },
    {
      "cell_type": "markdown",
      "source": [
        "## Opdracht 2: Redeneren met de data"
      ],
      "metadata": {
        "collapsed": false,
        "id": "6fc155dc85a29b2"
      },
      "id": "6fc155dc85a29b2"
    },
    {
      "cell_type": "markdown",
      "source": [
        "Gegeven de visualisaties:\n",
        "\n",
        "\n",
        "*   Wat ben je te weten gekomen over de data?\n",
        "*   Zijn er opvallende verschillen of overeenkomsten tussen de verschillende soorten klachten?\n",
        "*   Stel dat de data van een bank is met verschillende afdelingen waarover de verschillende klachten gaan; wat zou je de bank met jouw visualisaties willen adviseren?\n",
        "\n"
      ],
      "metadata": {
        "id": "eAXmphMC2p6g"
      },
      "id": "eAXmphMC2p6g"
    }
  ],
  "metadata": {
    "kernelspec": {
      "display_name": "Python 3",
      "language": "python",
      "name": "python3"
    },
    "language_info": {
      "codemirror_mode": {
        "name": "ipython",
        "version": 2
      },
      "file_extension": ".py",
      "mimetype": "text/x-python",
      "name": "python",
      "nbconvert_exporter": "python",
      "pygments_lexer": "ipython2",
      "version": "2.7.6"
    },
    "colab": {
      "provenance": [],
      "collapsed_sections": [
        "vs73iZ7Uf0Nu"
      ]
    }
  },
  "nbformat": 4,
  "nbformat_minor": 5
}