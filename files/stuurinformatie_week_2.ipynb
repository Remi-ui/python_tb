{
  "nbformat": 4,
  "nbformat_minor": 0,
  "metadata": {
    "colab": {
      "provenance": []
    },
    "kernelspec": {
      "name": "python3",
      "display_name": "Python 3"
    },
    "language_info": {
      "name": "python"
    }
  },
  "cells": [
    {
      "cell_type": "markdown",
      "source": [
        "#Python introductie"
      ],
      "metadata": {
        "id": "QHyBgM0Innzy"
      }
    },
    {
      "cell_type": "markdown",
      "source": [
        "##Variables"
      ],
      "metadata": {
        "id": "D4sWfnJsn5UZ"
      }
    },
    {
      "cell_type": "code",
      "execution_count": 2,
      "metadata": {
        "id": "JW-1ZRMGIqpA"
      },
      "outputs": [],
      "source": [
        "x = 5 \n",
        "naam = \"Marie\"\n",
        "leeftijd = 15.7 \n",
        "een_zin = \"Dit is een hele zin.\""
      ]
    },
    {
      "cell_type": "markdown",
      "source": [
        "##Data Types"
      ],
      "metadata": {
        "id": "lTgYxRn4oCRN"
      }
    },
    {
      "cell_type": "code",
      "source": [
        "print(x)\n",
        "print(naam)\n",
        "print(leeftijd)\n",
        "print(een_zin)\n",
        "\n",
        "print(type(x))\n",
        "print(type(naam))\n",
        "print(type(leeftijd))\n",
        "print(type(een_zin))"
      ],
      "metadata": {
        "colab": {
          "base_uri": "https://localhost:8080/"
        },
        "id": "qayk4deg9x_4",
        "outputId": "33791b42-c72e-49ee-89f3-0ca339ec752e"
      },
      "execution_count": 3,
      "outputs": [
        {
          "output_type": "stream",
          "name": "stdout",
          "text": [
            "5\n",
            "Marie\n",
            "15.7\n",
            "Dit is een hele zin.\n",
            "<class 'int'>\n",
            "<class 'str'>\n",
            "<class 'float'>\n",
            "<class 'str'>\n"
          ]
        }
      ]
    },
    {
      "cell_type": "markdown",
      "source": [
        "##Operators"
      ],
      "metadata": {
        "id": "MgthldRKn8u8"
      }
    },
    {
      "cell_type": "code",
      "source": [
        "print(5*3)\n",
        "print(x+1)"
      ],
      "metadata": {
        "colab": {
          "base_uri": "https://localhost:8080/"
        },
        "id": "q5CzNeux_CIB",
        "outputId": "47d63883-c45a-4a01-b49b-869c771533f1"
      },
      "execution_count": 6,
      "outputs": [
        {
          "output_type": "stream",
          "name": "stdout",
          "text": [
            "15\n",
            "6\n"
          ]
        }
      ]
    },
    {
      "cell_type": "markdown",
      "source": [
        "##Lists/tuples/sets"
      ],
      "metadata": {
        "id": "_P99EzcWoU28"
      }
    },
    {
      "cell_type": "code",
      "source": [
        "a_list = [1,naam,2]\n",
        "a_tuple = (1,naam,2)\n",
        "a_set = {1,naam,2}\n",
        "\n",
        "print(a_list)\n",
        "print(a_tuple)\n",
        "print(a_set)\n",
        "\n",
        "print(type(a_list))\n",
        "print(type(a_tuple))\n",
        "print(type(a_set))"
      ],
      "metadata": {
        "colab": {
          "base_uri": "https://localhost:8080/"
        },
        "id": "iLV2Gmg9n94Q",
        "outputId": "f3bbb32c-f859-4d63-9ced-ef2efffe4168"
      },
      "execution_count": 6,
      "outputs": [
        {
          "output_type": "stream",
          "name": "stdout",
          "text": [
            "[1, 'Marie', 2]\n",
            "(1, 'Marie', 2)\n",
            "{1, 2, 'Marie'}\n",
            "<class 'list'>\n",
            "<class 'tuple'>\n",
            "<class 'set'>\n"
          ]
        }
      ]
    },
    {
      "cell_type": "markdown",
      "source": [
        "##Dictionaries"
      ],
      "metadata": {
        "id": "4NWkCYXsoYm6"
      }
    },
    {
      "cell_type": "code",
      "source": [
        "a_dict = {\n",
        "    \"brand\": \"Ford\", \"model\": \"Mustang\", \"year\": 1964\n",
        "}\n",
        "\n",
        "print(a_dict[\"brand\"])"
      ],
      "metadata": {
        "colab": {
          "base_uri": "https://localhost:8080/"
        },
        "id": "3Q37OOi9piEv",
        "outputId": "f7b33013-2fa0-42c6-96fb-f55da6756d6e"
      },
      "execution_count": 10,
      "outputs": [
        {
          "output_type": "stream",
          "name": "stdout",
          "text": [
            "Ford\n"
          ]
        }
      ]
    },
    {
      "cell_type": "markdown",
      "source": [
        "##Conditions"
      ],
      "metadata": {
        "id": "MljrW7JSoc83"
      }
    },
    {
      "cell_type": "code",
      "source": [
        "a = 1\n",
        "b = 2\n",
        "\n",
        "print(a == b)\n",
        "print(a != b)\n",
        "print(a > b)\n",
        "print(a < b)\n",
        "print(a <= b)\n",
        "print(a >= b)"
      ],
      "metadata": {
        "colab": {
          "base_uri": "https://localhost:8080/"
        },
        "id": "vpRNl1Y8smii",
        "outputId": "16ae814f-9c0c-4a2d-a335-34df48382e51"
      },
      "execution_count": 13,
      "outputs": [
        {
          "output_type": "stream",
          "name": "stdout",
          "text": [
            "False\n",
            "True\n",
            "False\n",
            "True\n",
            "True\n",
            "False\n"
          ]
        }
      ]
    },
    {
      "cell_type": "markdown",
      "source": [
        "##Loops"
      ],
      "metadata": {
        "id": "yOHByCdPofbi"
      }
    },
    {
      "cell_type": "code",
      "source": [
        "merken = [\"Ford\", \"Volvo\", \"Audi\"]\n",
        "for x in merken:\n",
        "  print(x)"
      ],
      "metadata": {
        "colab": {
          "base_uri": "https://localhost:8080/"
        },
        "id": "_q2chKUVsKCM",
        "outputId": "2cb928d5-55ff-40cf-87a3-e51079894fe2"
      },
      "execution_count": 11,
      "outputs": [
        {
          "output_type": "stream",
          "name": "stdout",
          "text": [
            "Ford\n",
            "Volvo\n",
            "Audi\n"
          ]
        }
      ]
    },
    {
      "cell_type": "markdown",
      "source": [
        "##Functions"
      ],
      "metadata": {
        "id": "aN2Cd8fNoiXW"
      }
    },
    {
      "cell_type": "code",
      "source": [
        "def vermenigvuldig(a,b):\n",
        "  print(a*b)\n",
        "\n",
        "vermenigvuldig(3,6)\n",
        "vermenigvuldig(4,3)"
      ],
      "metadata": {
        "colab": {
          "base_uri": "https://localhost:8080/"
        },
        "id": "vgSaYhWIvk6U",
        "outputId": "bb2adfcd-19fb-4085-985d-c981e4ea3e94"
      },
      "execution_count": 15,
      "outputs": [
        {
          "output_type": "stream",
          "name": "stdout",
          "text": [
            "18\n",
            "12\n"
          ]
        }
      ]
    }
  ]
}
